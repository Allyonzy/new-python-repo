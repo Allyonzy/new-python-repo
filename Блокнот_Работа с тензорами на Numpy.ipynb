{
  "cells": [
    {
      "cell_type": "markdown",
      "metadata": {
        "id": "J1upNY5z_utC"
      },
      "source": [
        "# Библиотека Numpy.\n",
        "- ***``Numpy`` - это библиотека Python для вычислительно эффективных операций с многомерными массивами, предназначенная в основном для научных вычислений.***\n",
        "\n",
        "\n",
        "- ***Пакет ``Numpy`` предоставляет $n$-мерные однородные массивы (все элементы одного типа) в них нельзя вставить или удалить элемент в произвольном месте. В ``Numpy`` реализовано много операций над массивами в целом.***"
      ]
    },
    {
      "cell_type": "code",
      "execution_count": 37,
      "metadata": {},
      "outputs": [],
      "source": [
        "import numpy as np"
      ]
    },
    {
      "cell_type": "markdown",
      "metadata": {},
      "source": [
        "# Работа с массивами"
      ]
    },
    {
      "cell_type": "markdown",
      "metadata": {
        "id": "32M0HsA7_utg"
      },
      "source": [
        "***Задание:***\n",
        "- Отобразить вектор размера 100, в котором вычеркивается **x**, если **x** --- составное (т. е. не является простым)"
      ]
    },
    {
      "cell_type": "code",
      "execution_count": 38,
      "metadata": {
        "id": "Gty7eFic_utg"
      },
      "outputs": [],
      "source": [
        "is_prime = np.ones(100, dtype=bool)"
      ]
    },
    {
      "cell_type": "code",
      "execution_count": 39,
      "metadata": {
        "id": "18EkFa_T_utg"
      },
      "outputs": [],
      "source": [
        "is_prime[:2] = False"
      ]
    },
    {
      "cell_type": "code",
      "execution_count": 40,
      "metadata": {
        "colab": {
          "base_uri": "https://localhost:8080/"
        },
        "id": "nffcK9Bz_utg",
        "outputId": "0a4cd2b9-325c-492c-b571-a4d9f7940a98"
      },
      "outputs": [
        {
          "name": "stdout",
          "output_type": "stream",
          "text": [
            "[False False  True  True False  True False  True False False False  True\n",
            " False  True False False False  True False  True False False False  True\n",
            " False False False False False  True False  True False False False False\n",
            " False  True False False False  True False  True False False False  True\n",
            " False False False False False  True False False False False False  True\n",
            " False  True False False False False False  True False False False  True\n",
            " False  True False False False False False  True False False False  True\n",
            " False False False False False  True False False False False False False\n",
            " False  True False False]\n"
          ]
        }
      ],
      "source": [
        "N_max = int(np.sqrt(len(is_prime)))\n",
        "for i in range(2, N_max):\n",
        "    is_prime[2*i::i] = False # начинаем с 2i с шагом i\n",
        "\n",
        "print(is_prime)"
      ]
    },
    {
      "cell_type": "code",
      "execution_count": 41,
      "metadata": {
        "colab": {
          "base_uri": "https://localhost:8080/"
        },
        "id": "BP_bXlNdnZM9",
        "outputId": "1ffa22c2-f863-401c-f39d-98a16fbd1a42"
      },
      "outputs": [
        {
          "name": "stdout",
          "output_type": "stream",
          "text": [
            "True\n",
            "False\n"
          ]
        }
      ],
      "source": [
        "print(is_prime[17])\n",
        "print(is_prime[25])"
      ]
    },
    {
      "cell_type": "markdown",
      "metadata": {
        "id": "YSBsopHn_uth"
      },
      "source": [
        "***Маски.***"
      ]
    },
    {
      "cell_type": "code",
      "execution_count": 42,
      "metadata": {
        "colab": {
          "base_uri": "https://localhost:8080/"
        },
        "id": "r4OSDlK3_uth",
        "outputId": "685adb4a-d0b0-4d09-d814-e41da732c497"
      },
      "outputs": [
        {
          "name": "stdout",
          "output_type": "stream",
          "text": [
            "[ True False False  True False False  True False False  True False False\n",
            "  True False False  True False False  True False]\n",
            "[ 0  3  6  9 12 15 18]\n"
          ]
        }
      ],
      "source": [
        "a = np.arange(20)\n",
        "print(a % 3 == 0)\n",
        "print(a[a % 3 == 0])"
      ]
    },
    {
      "cell_type": "markdown",
      "metadata": {
        "id": "7YKwXJIw_uth"
      },
      "source": [
        "***След (trace) - сумма диагональных элементов.***"
      ]
    },
    {
      "cell_type": "code",
      "execution_count": 43,
      "metadata": {
        "colab": {
          "base_uri": "https://localhost:8080/"
        },
        "id": "H5gVZbGH_uth",
        "outputId": "af712b03-64d4-4211-e7f7-acbed0d28b7b"
      },
      "outputs": [
        {
          "name": "stdout",
          "output_type": "stream",
          "text": [
            "[[10  0  0  0  0  0  0  0  0  0]\n",
            " [ 0 11  0  0  0  0  0  0  0  0]\n",
            " [ 0  0 12  0  0  0  0  0  0  0]\n",
            " [ 0  0  0 13  0  0  0  0  0  0]\n",
            " [ 0  0  0  0 14  0  0  0  0  0]\n",
            " [ 0  0  0  0  0 15  0  0  0  0]\n",
            " [ 0  0  0  0  0  0 16  0  0  0]\n",
            " [ 0  0  0  0  0  0  0 17  0  0]\n",
            " [ 0  0  0  0  0  0  0  0 18  0]\n",
            " [ 0  0  0  0  0  0  0  0  0 19]]\n",
            "145\n"
          ]
        }
      ],
      "source": [
        "b = np.diag(a[a >= 10])\n",
        "print(b)\n",
        "print(np.trace(b))"
      ]
    },
    {
      "cell_type": "markdown",
      "metadata": {
        "id": "isiWgLWK_uti"
      },
      "source": [
        "# Тензоры (многомерные массивы)"
      ]
    },
    {
      "cell_type": "markdown",
      "metadata": {},
      "source": [
        "Тензор - это более общий термин и означает многомерный массив с более чем двумя измерениями."
      ]
    },
    {
      "cell_type": "markdown",
      "metadata": {},
      "source": [
        "Примерами могут служить изображения (где у нас есть две пространственные оси и, возможно, канальная ось), видео (где к каждому изображению добавляется временная ось), и данные с дополнительными измерениями."
      ]
    },
    {
      "cell_type": "code",
      "execution_count": 44,
      "metadata": {},
      "outputs": [],
      "source": [
        "import numpy as np"
      ]
    },
    {
      "cell_type": "code",
      "execution_count": 45,
      "metadata": {
        "colab": {
          "base_uri": "https://localhost:8080/"
        },
        "id": "AUyIWgP2_uti",
        "outputId": "406af1ac-3935-4d4d-d1f7-38399fc7d90f"
      },
      "outputs": [
        {
          "name": "stdout",
          "output_type": "stream",
          "text": [
            "[[[ 0  1  2  3]\n",
            "  [ 4  5  6  7]]\n",
            "\n",
            " [[ 8  9 10 11]\n",
            "  [12 13 14 15]]\n",
            "\n",
            " [[16 17 18 19]\n",
            "  [20 21 22 23]]\n",
            "\n",
            " [[24 25 26 27]\n",
            "  [28 29 30 31]]\n",
            "\n",
            " [[32 33 34 35]\n",
            "  [36 37 38 39]]\n",
            "\n",
            " [[40 41 42 43]\n",
            "  [44 45 46 47]]\n",
            "\n",
            " [[48 49 50 51]\n",
            "  [52 53 54 55]]\n",
            "\n",
            " [[56 57 58 59]\n",
            "  [60 61 62 63]]]\n"
          ]
        }
      ],
      "source": [
        "X = np.arange(64).reshape(8, 2, 4)\n",
        "print(X)"
      ]
    },
    {
      "cell_type": "code",
      "execution_count": 46,
      "metadata": {},
      "outputs": [
        {
          "data": {
            "text/plain": [
              "(8, 2, 4)"
            ]
          },
          "execution_count": 46,
          "metadata": {},
          "output_type": "execute_result"
        }
      ],
      "source": [
        "X.shape"
      ]
    },
    {
      "cell_type": "code",
      "execution_count": 47,
      "metadata": {
        "colab": {
          "base_uri": "https://localhost:8080/"
        },
        "id": "5rOaCZPA_uti",
        "outputId": "a686ac1c-817d-4e8d-a743-a2fa33e77d18"
      },
      "outputs": [
        {
          "data": {
            "text/plain": [
              "((8, 2, 4), 8, 64, 3)"
            ]
          },
          "execution_count": 47,
          "metadata": {},
          "output_type": "execute_result"
        }
      ],
      "source": [
        "X.shape, len(X), X.size, X.ndim"
      ]
    },
    {
      "cell_type": "markdown",
      "metadata": {
        "id": "5CAEcdZD_uti"
      },
      "source": [
        "***Посмотрим на суммы по разным осям.***"
      ]
    },
    {
      "cell_type": "code",
      "execution_count": 48,
      "metadata": {
        "colab": {
          "base_uri": "https://localhost:8080/"
        },
        "id": "C5GLpba__uti",
        "outputId": "f37d2076-270a-4943-b8d6-c6dc1eeefe2b"
      },
      "outputs": [
        {
          "name": "stdout",
          "output_type": "stream",
          "text": [
            "[[224 232 240 248]\n",
            " [256 264 272 280]] \n",
            "\n",
            "[[  4   6   8  10]\n",
            " [ 20  22  24  26]\n",
            " [ 36  38  40  42]\n",
            " [ 52  54  56  58]\n",
            " [ 68  70  72  74]\n",
            " [ 84  86  88  90]\n",
            " [100 102 104 106]\n",
            " [116 118 120 122]] \n",
            "\n",
            "[[  6  22]\n",
            " [ 38  54]\n",
            " [ 70  86]\n",
            " [102 118]\n",
            " [134 150]\n",
            " [166 182]\n",
            " [198 214]\n",
            " [230 246]] \n",
            "\n",
            "[ 28  92 156 220 284 348 412 476]\n"
          ]
        }
      ],
      "source": [
        "print(np.sum(X, axis=0), '\\n') # 0 - ширина матрицы или тензора\n",
        "print(np.sum(X, axis=1), '\\n') # 1 - высота матрицы или тензора\n",
        "print(np.sum(X, axis=2), '\\n') # 2 - глубина \n",
        "\n",
        "# суммируем сразу по двум осям, то есть для фиксированной i\n",
        "# суммируем только элементы с индексами (i, *, *)\n",
        "print(np.sum(X, axis=(1, 2)))"
      ]
    },
    {
      "cell_type": "markdown",
      "metadata": {
        "id": "A30UqUOO_utj"
      },
      "source": [
        "# Линейная алгебра"
      ]
    },
    {
      "cell_type": "code",
      "execution_count": 49,
      "metadata": {
        "colab": {
          "base_uri": "https://localhost:8080/"
        },
        "id": "L9yyZxD1_utj",
        "outputId": "9f923450-d516-4e29-fa03-fe93ba618af8"
      },
      "outputs": [
        {
          "name": "stdout",
          "output_type": "stream",
          "text": [
            "[[2 1]\n",
            " [2 3]]\n"
          ]
        }
      ],
      "source": [
        "a = np.array([[2, 1], [2, 3]])\n",
        "print(a)"
      ]
    },
    {
      "cell_type": "markdown",
      "metadata": {
        "id": "vPaPbS4i_utj"
      },
      "source": [
        "***Определитель.***"
      ]
    },
    {
      "cell_type": "code",
      "execution_count": 50,
      "metadata": {
        "colab": {
          "base_uri": "https://localhost:8080/"
        },
        "id": "iAEMomd4_utj",
        "outputId": "02f2781f-7b7a-4987-cada-ea60c0fe44e2"
      },
      "outputs": [
        {
          "data": {
            "text/plain": [
              "np.float64(4.0)"
            ]
          },
          "execution_count": 50,
          "metadata": {},
          "output_type": "execute_result"
        }
      ],
      "source": [
        "np.linalg.det(a)"
      ]
    },
    {
      "cell_type": "markdown",
      "metadata": {
        "id": "NyXE5jgh_utj"
      },
      "source": [
        "***Нахождениия обратной.***"
      ]
    },
    {
      "cell_type": "code",
      "execution_count": 51,
      "metadata": {},
      "outputs": [
        {
          "data": {
            "text/plain": [
              "array([[2, 1],\n",
              "       [2, 3]])"
            ]
          },
          "execution_count": 51,
          "metadata": {},
          "output_type": "execute_result"
        }
      ],
      "source": [
        "a"
      ]
    },
    {
      "cell_type": "code",
      "execution_count": 52,
      "metadata": {
        "colab": {
          "base_uri": "https://localhost:8080/"
        },
        "id": "Arj57Cqz_utj",
        "outputId": "3e08097e-89fd-4fc6-da84-748b168f91e9"
      },
      "outputs": [
        {
          "name": "stdout",
          "output_type": "stream",
          "text": [
            "[[ 0.75 -0.25]\n",
            " [-0.5   0.5 ]]\n"
          ]
        }
      ],
      "source": [
        "b = np.linalg.inv(a)\n",
        "print(b)"
      ]
    },
    {
      "cell_type": "code",
      "execution_count": 53,
      "metadata": {
        "colab": {
          "base_uri": "https://localhost:8080/"
        },
        "id": "yWNVSSJv_utk",
        "outputId": "1c46ed14-7079-4d44-fe13-fe9be147fd85"
      },
      "outputs": [
        {
          "name": "stdout",
          "output_type": "stream",
          "text": [
            "[[1. 0.]\n",
            " [0. 1.]]\n",
            "[[1. 0.]\n",
            " [0. 1.]]\n"
          ]
        }
      ],
      "source": [
        "print(a.dot(b))\n",
        "print(b.dot(a))"
      ]
    },
    {
      "cell_type": "code",
      "execution_count": 54,
      "metadata": {},
      "outputs": [
        {
          "data": {
            "text/plain": [
              "array([[1., 0.],\n",
              "       [0., 1.]])"
            ]
          },
          "execution_count": 54,
          "metadata": {},
          "output_type": "execute_result"
        }
      ],
      "source": [
        "a @ b"
      ]
    },
    {
      "cell_type": "code",
      "execution_count": 55,
      "metadata": {},
      "outputs": [
        {
          "data": {
            "text/plain": [
              "array([[1., 0.],\n",
              "       [0., 1.]])"
            ]
          },
          "execution_count": 55,
          "metadata": {},
          "output_type": "execute_result"
        }
      ],
      "source": [
        "b @ a"
      ]
    },
    {
      "cell_type": "code",
      "execution_count": 56,
      "metadata": {
        "colab": {
          "base_uri": "https://localhost:8080/"
        },
        "id": "mgIdQiNDFY5L",
        "outputId": "d685469d-ef49-47d6-8666-c46e17e9dfc5"
      },
      "outputs": [
        {
          "name": "stdout",
          "output_type": "stream",
          "text": [
            "[[2 1]\n",
            " [6 3]]\n",
            "0.0\n"
          ]
        }
      ],
      "source": [
        "c = np.array([[2, 1], [6, 3]])\n",
        "print(c)\n",
        "print(np.linalg.det(c))"
      ]
    },
    {
      "cell_type": "code",
      "execution_count": 57,
      "metadata": {},
      "outputs": [
        {
          "data": {
            "text/plain": [
              "array([[2, 1],\n",
              "       [6, 3]])"
            ]
          },
          "execution_count": 57,
          "metadata": {},
          "output_type": "execute_result"
        }
      ],
      "source": [
        "c"
      ]
    },
    {
      "cell_type": "code",
      "execution_count": 58,
      "metadata": {
        "colab": {
          "base_uri": "https://localhost:8080/",
          "height": 341
        },
        "id": "hFFsQKv4FgYV",
        "outputId": "3fa3a00d-df53-4cbb-dc9b-bf2888c7e5ef"
      },
      "outputs": [
        {
          "ename": "LinAlgError",
          "evalue": "Singular matrix",
          "output_type": "error",
          "traceback": [
            "\u001b[1;31m---------------------------------------------------------------------------\u001b[0m",
            "\u001b[1;31mLinAlgError\u001b[0m                               Traceback (most recent call last)",
            "Cell \u001b[1;32mIn[58], line 1\u001b[0m\n\u001b[1;32m----> 1\u001b[0m \u001b[43mnp\u001b[49m\u001b[38;5;241;43m.\u001b[39;49m\u001b[43mlinalg\u001b[49m\u001b[38;5;241;43m.\u001b[39;49m\u001b[43minv\u001b[49m\u001b[43m(\u001b[49m\u001b[43mc\u001b[49m\u001b[43m)\u001b[49m \u001b[38;5;66;03m# предполагается ошибка\u001b[39;00m\n",
            "File \u001b[1;32mc:\\Users\\user\\Documents\\new-python-repo\\.folder\\Lib\\site-packages\\numpy\\linalg\\_linalg.py:615\u001b[0m, in \u001b[0;36minv\u001b[1;34m(a)\u001b[0m\n\u001b[0;32m    612\u001b[0m signature \u001b[38;5;241m=\u001b[39m \u001b[38;5;124m'\u001b[39m\u001b[38;5;124mD->D\u001b[39m\u001b[38;5;124m'\u001b[39m \u001b[38;5;28;01mif\u001b[39;00m isComplexType(t) \u001b[38;5;28;01melse\u001b[39;00m \u001b[38;5;124m'\u001b[39m\u001b[38;5;124md->d\u001b[39m\u001b[38;5;124m'\u001b[39m\n\u001b[0;32m    613\u001b[0m \u001b[38;5;28;01mwith\u001b[39;00m errstate(call\u001b[38;5;241m=\u001b[39m_raise_linalgerror_singular, invalid\u001b[38;5;241m=\u001b[39m\u001b[38;5;124m'\u001b[39m\u001b[38;5;124mcall\u001b[39m\u001b[38;5;124m'\u001b[39m,\n\u001b[0;32m    614\u001b[0m               over\u001b[38;5;241m=\u001b[39m\u001b[38;5;124m'\u001b[39m\u001b[38;5;124mignore\u001b[39m\u001b[38;5;124m'\u001b[39m, divide\u001b[38;5;241m=\u001b[39m\u001b[38;5;124m'\u001b[39m\u001b[38;5;124mignore\u001b[39m\u001b[38;5;124m'\u001b[39m, under\u001b[38;5;241m=\u001b[39m\u001b[38;5;124m'\u001b[39m\u001b[38;5;124mignore\u001b[39m\u001b[38;5;124m'\u001b[39m):\n\u001b[1;32m--> 615\u001b[0m     ainv \u001b[38;5;241m=\u001b[39m \u001b[43m_umath_linalg\u001b[49m\u001b[38;5;241;43m.\u001b[39;49m\u001b[43minv\u001b[49m\u001b[43m(\u001b[49m\u001b[43ma\u001b[49m\u001b[43m,\u001b[49m\u001b[43m \u001b[49m\u001b[43msignature\u001b[49m\u001b[38;5;241;43m=\u001b[39;49m\u001b[43msignature\u001b[49m\u001b[43m)\u001b[49m\n\u001b[0;32m    616\u001b[0m \u001b[38;5;28;01mreturn\u001b[39;00m wrap(ainv\u001b[38;5;241m.\u001b[39mastype(result_t, copy\u001b[38;5;241m=\u001b[39m\u001b[38;5;28;01mFalse\u001b[39;00m))\n",
            "File \u001b[1;32mc:\\Users\\user\\Documents\\new-python-repo\\.folder\\Lib\\site-packages\\numpy\\linalg\\_linalg.py:104\u001b[0m, in \u001b[0;36m_raise_linalgerror_singular\u001b[1;34m(err, flag)\u001b[0m\n\u001b[0;32m    103\u001b[0m \u001b[38;5;28;01mdef\u001b[39;00m \u001b[38;5;21m_raise_linalgerror_singular\u001b[39m(err, flag):\n\u001b[1;32m--> 104\u001b[0m     \u001b[38;5;28;01mraise\u001b[39;00m LinAlgError(\u001b[38;5;124m\"\u001b[39m\u001b[38;5;124mSingular matrix\u001b[39m\u001b[38;5;124m\"\u001b[39m)\n",
            "\u001b[1;31mLinAlgError\u001b[0m: Singular matrix"
          ]
        }
      ],
      "source": [
        "np.linalg.inv(c) # предполагается ошибка"
      ]
    },
    {
      "cell_type": "markdown",
      "metadata": {
        "id": "24c7Zzvz_utk"
      },
      "source": [
        "***Решение НЛУ.***\n",
        "$$ A \\cdot x = v $$"
      ]
    },
    {
      "cell_type": "code",
      "execution_count": 21,
      "metadata": {},
      "outputs": [
        {
          "data": {
            "text/plain": [
              "array([[2, 1],\n",
              "       [2, 3]])"
            ]
          },
          "execution_count": 21,
          "metadata": {},
          "output_type": "execute_result"
        }
      ],
      "source": [
        "a"
      ]
    },
    {
      "cell_type": "code",
      "execution_count": 23,
      "metadata": {},
      "outputs": [
        {
          "data": {
            "text/plain": [
              "array([[ 0.75, -0.25],\n",
              "       [-0.5 ,  0.5 ]])"
            ]
          },
          "execution_count": 23,
          "metadata": {},
          "output_type": "execute_result"
        }
      ],
      "source": [
        "b # b = np.linalg.inv(a)"
      ]
    },
    {
      "cell_type": "code",
      "execution_count": 24,
      "metadata": {
        "colab": {
          "base_uri": "https://localhost:8080/"
        },
        "id": "l0aHvZ_y_utk",
        "outputId": "b717007c-14d9-410b-953b-2c59e1e7b4e6"
      },
      "outputs": [
        {
          "name": "stdout",
          "output_type": "stream",
          "text": [
            "[ 6.25 -7.5 ]\n",
            "[ 6.25 -7.5 ]\n"
          ]
        }
      ],
      "source": [
        "v = np.array([5, -10])\n",
        "print(np.linalg.solve(a, v))\n",
        "print(b.dot(v))"
      ]
    },
    {
      "cell_type": "markdown",
      "metadata": {
        "id": "f-NrxHvy_utk"
      },
      "source": [
        "***Найдем собственные вектора матрицы A.***\n",
        "$$ A \\cdot x = \\lambda \\cdot x $$"
      ]
    },
    {
      "cell_type": "code",
      "execution_count": 25,
      "metadata": {},
      "outputs": [
        {
          "data": {
            "text/plain": [
              "array([[2, 1],\n",
              "       [2, 3]])"
            ]
          },
          "execution_count": 25,
          "metadata": {},
          "output_type": "execute_result"
        }
      ],
      "source": [
        "a"
      ]
    },
    {
      "cell_type": "code",
      "execution_count": null,
      "metadata": {
        "colab": {
          "base_uri": "https://localhost:8080/"
        },
        "id": "whDG4FcZ_utk",
        "outputId": "a3f69768-43d2-4abb-87b2-e983c78acb78"
      },
      "outputs": [
        {
          "name": "stdout",
          "output_type": "stream",
          "text": [
            "[1. 4.]\n",
            "[[-0.70710678 -0.4472136 ]\n",
            " [ 0.70710678 -0.89442719]]\n"
          ]
        }
      ],
      "source": [
        "l, u = np.linalg.eig(a)\n",
        "print(l)\n",
        "print(u)"
      ]
    },
    {
      "cell_type": "markdown",
      "metadata": {
        "id": "czfrs56I_utk"
      },
      "source": [
        "***Собственные значения матриц A и A.T совпадают.***"
      ]
    },
    {
      "cell_type": "code",
      "execution_count": 27,
      "metadata": {},
      "outputs": [
        {
          "data": {
            "text/plain": [
              "array([[2, 2],\n",
              "       [1, 3]])"
            ]
          },
          "execution_count": 27,
          "metadata": {},
          "output_type": "execute_result"
        }
      ],
      "source": [
        "a.T # транспонированная матрица"
      ]
    },
    {
      "cell_type": "code",
      "execution_count": 28,
      "metadata": {
        "colab": {
          "base_uri": "https://localhost:8080/"
        },
        "id": "9ke3c0MH_utl",
        "outputId": "ff857e21-eb35-43d3-c01d-3b31d29ad302"
      },
      "outputs": [
        {
          "name": "stdout",
          "output_type": "stream",
          "text": [
            "[1. 4.]\n",
            "[[-0.89442719 -0.70710678]\n",
            " [ 0.4472136  -0.70710678]]\n"
          ]
        }
      ],
      "source": [
        "l, u = np.linalg.eig(a.T)\n",
        "print(l)\n",
        "print(u)"
      ]
    },
    {
      "cell_type": "code",
      "execution_count": 33,
      "metadata": {},
      "outputs": [
        {
          "data": {
            "text/plain": [
              "array([[1., 0., 0.],\n",
              "       [0., 1., 0.],\n",
              "       [0., 0., 1.]])"
            ]
          },
          "execution_count": 33,
          "metadata": {},
          "output_type": "execute_result"
        }
      ],
      "source": [
        "np.eye(3) # identity matrix, квадратная и её диагональ из 1"
      ]
    },
    {
      "cell_type": "code",
      "execution_count": 29,
      "metadata": {
        "colab": {
          "base_uri": "https://localhost:8080/"
        },
        "id": "sHqgbKG1_utl",
        "outputId": "8551ea20-4f61-431f-e129-f0fcb5670384"
      },
      "outputs": [
        {
          "name": "stdout",
          "output_type": "stream",
          "text": [
            "[1. 1. 1.]\n",
            "[[1. 0. 0.]\n",
            " [0. 1. 0.]\n",
            " [0. 0. 1.]]\n"
          ]
        }
      ],
      "source": [
        "l, u = np.linalg.eig(np.eye(3))\n",
        "print(l)\n",
        "print(u)"
      ]
    },
    {
      "cell_type": "markdown",
      "metadata": {
        "id": "x6DE6oKj_utl"
      },
      "source": [
        "***Производительность.***"
      ]
    },
    {
      "cell_type": "markdown",
      "metadata": {},
      "source": [
        "%%time - внутренняя функция, позволяет измерять ячейку"
      ]
    },
    {
      "cell_type": "code",
      "execution_count": 35,
      "metadata": {
        "colab": {
          "base_uri": "https://localhost:8080/"
        },
        "id": "eG_43zlf_utl",
        "outputId": "43831b81-e04f-4686-c39b-d7335aa17965"
      },
      "outputs": [
        {
          "name": "stdout",
          "output_type": "stream",
          "text": [
            "49999995000000\n",
            "CPU times: total: 15.6 ms\n",
            "Wall time: 54.5 ms\n"
          ]
        }
      ],
      "source": [
        "%%time\n",
        "\n",
        "sum_value = np.sum(np.arange(10**7))\n",
        "print(sum_value)"
      ]
    },
    {
      "cell_type": "code",
      "execution_count": 36,
      "metadata": {
        "colab": {
          "base_uri": "https://localhost:8080/"
        },
        "id": "nJMt7YsM_uto",
        "outputId": "e423f1bd-7dca-42f5-ea43-08c87457939e"
      },
      "outputs": [
        {
          "name": "stdout",
          "output_type": "stream",
          "text": [
            "CPU times: total: 31.2 ms\n",
            "Wall time: 80.3 ms\n"
          ]
        }
      ],
      "source": [
        "%%time\n",
        "arr = 5*np.arange(10**7)"
      ]
    },
    {
      "cell_type": "markdown",
      "metadata": {
        "id": "VAnhPlAL_utp"
      },
      "source": [
        "# Полезные ссылки"
      ]
    },
    {
      "cell_type": "markdown",
      "metadata": {
        "id": "rpukgcep_utp"
      },
      "source": [
        "[Введение в Анализ Данных](https://mipt-stats.gitlab.io/jekyll/update/2020/02/01/ad.html)\n",
        "\n",
        "[GitHub NumPy](https://github.com/numpy/numpy)\n",
        "\n",
        "[Документация по NumPy](https://numpy.org/doc/stable/)\n",
        "\n",
        "[mlcource.ai](https://mlcourse.ai)"
      ]
    }
  ],
  "metadata": {
    "colab": {
      "name": "[seminar]numpy.ipynb",
      "provenance": [],
      "toc_visible": true
    },
    "kernelspec": {
      "display_name": ".folder",
      "language": "python",
      "name": "python3"
    },
    "language_info": {
      "codemirror_mode": {
        "name": "ipython",
        "version": 3
      },
      "file_extension": ".py",
      "mimetype": "text/x-python",
      "name": "python",
      "nbconvert_exporter": "python",
      "pygments_lexer": "ipython3",
      "version": "3.12.1"
    }
  },
  "nbformat": 4,
  "nbformat_minor": 0
}
