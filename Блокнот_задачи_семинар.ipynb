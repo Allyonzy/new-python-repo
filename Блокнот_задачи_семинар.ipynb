{
 "cells": [
  {
   "cell_type": "markdown",
   "metadata": {},
   "source": [
    "# Задача 1\n",
    "Дан список чисел. Определите, сколько в нем встречается различных чисел.\n",
    "\n",
    "Input: [1, 1, 2, 0, -1, 3, 4, 4]\n",
    "\n",
    "Output: В списке [1, 1, 2, 0, -1, 3, 4, 4] -->> 6 значений являются уникальными"
   ]
  },
  {
   "cell_type": "code",
   "execution_count": null,
   "metadata": {},
   "outputs": [],
   "source": [
    "# решение кодом здесь"
   ]
  },
  {
   "cell_type": "markdown",
   "metadata": {},
   "source": [
    "# Пример решения"
   ]
  },
  {
   "cell_type": "code",
   "execution_count": 2,
   "metadata": {},
   "outputs": [
    {
     "name": "stdout",
     "output_type": "stream",
     "text": [
      "В списке [1, 1, 2, 0, -1, 3, 4, 4] -->> 6 значений являются уникальными\n"
     ]
    }
   ],
   "source": [
    "# пример кода здесь\n",
    "num_list = [1, 1, 2, 0, -1, 3, 4, 4]\n",
    "# new_list = set(num_list) # переводим в множество (оно содержит только уникальные элементы)\n",
    "\n",
    "print(f'В списке {num_list} -->> {len(set(num_list))} значений являются уникальными')\n",
    "# решение кодом здесь"
   ]
  },
  {
   "cell_type": "markdown",
   "metadata": {},
   "source": [
    "Добавим модульность"
   ]
  },
  {
   "cell_type": "code",
   "execution_count": null,
   "metadata": {},
   "outputs": [],
   "source": [
    "# Модуль для работы с списками чисел\n",
    "\n",
    "def count_unique_elements(input_list):\n",
    "    \"\"\"\n",
    "    Подсчитывает количество уникальных элементов в списке.\n",
    "    \n",
    "    Args:\n",
    "        input_list (list): Список чисел.\n",
    "    \n",
    "    Returns:\n",
    "        int: Количество уникальных элементов.\n",
    "    \"\"\"\n",
    "    return len(set(input_list))\n",
    "\n",
    "def main():\n",
    "    # Исходный список чисел\n",
    "    num_list = [1, 1, 2, 0, -1, 3, 4, 4]\n",
    "    \n",
    "    # Подсчет уникальных элементов\n",
    "    unique_count = count_unique_elements(num_list)\n",
    "    \n",
    "    # Вывод результата\n",
    "    print(f'В списке {num_list} -->> {unique_count} значений являются уникальными')\n",
    "\n",
    "if __name__ == \"__main__\":\n",
    "    main()"
   ]
  },
  {
   "cell_type": "markdown",
   "metadata": {},
   "source": [
    "# Задача 2\n",
    "Дана последовательность из N целых чисел и число K.\n",
    "Необходимо сдвинуть всю последовательность (сдвиг - циклический) на K элементов вправо, K – положительное число.\n",
    "\n",
    "Input: \n",
    "\n",
    "[1, 2, 3, 4, 5] \n",
    "\n",
    "k = 3\n",
    "\n",
    "Output: [4, 5, 1, 2, 3]\n"
   ]
  },
  {
   "cell_type": "code",
   "execution_count": null,
   "metadata": {},
   "outputs": [],
   "source": [
    "# решение кодом здесь"
   ]
  },
  {
   "cell_type": "markdown",
   "metadata": {},
   "source": [
    "# Пример решения"
   ]
  },
  {
   "cell_type": "code",
   "execution_count": 8,
   "metadata": {},
   "outputs": [
    {
     "name": "stdout",
     "output_type": "stream",
     "text": [
      "Для списка [1, 2, 3, 4, 5, 6, 7, 8] новый список со смещение 3 равен [6, 7, 8, 1, 2, 3, 4, 5]\n"
     ]
    }
   ],
   "source": [
    "num_list = [1, 2, 3, 4, 5, 6, 7, 8]\n",
    "num_shift = 3\n",
    "new_list = []\n",
    "\n",
    "\n",
    "# первая часть отсекает К элементов с конца и переносит их в начало, вторая часть отступает К элементов с начала\n",
    "new_list = num_list[-num_shift:] + num_list[:-num_shift]\n",
    "\n",
    "print(f'Для списка {num_list} новый список со смещение {num_shift} равен {new_list}')"
   ]
  },
  {
   "cell_type": "markdown",
   "metadata": {},
   "source": [
    "Добавим модульность"
   ]
  },
  {
   "cell_type": "code",
   "execution_count": 11,
   "metadata": {},
   "outputs": [
    {
     "name": "stdout",
     "output_type": "stream",
     "text": [
      "Для списка [1, 2, 3, 4, 5, 6, 7, 8] новый список со смещением 3 равен [6, 7, 8, 1, 2, 3, 4, 5]\n"
     ]
    }
   ],
   "source": [
    "# Модуль для работы с списками чисел\n",
    "\n",
    "def rotate_list(input_list, shift):\n",
    "    \"\"\"\n",
    "    Вращивает список влево на заданное количество позиций.\n",
    "    \n",
    "    Args:\n",
    "        input_list (list): Исходный список чисел.\n",
    "        shift (int): Количество позиций для вращения.\n",
    "    \n",
    "    Returns:\n",
    "        list: Вращенный список.\n",
    "    \"\"\"\n",
    "    return input_list[-shift:] + input_list[:-shift]\n",
    "\n",
    "def main():\n",
    "    # Исходный список чисел\n",
    "    num_list = [1, 2, 3, 4, 5, 6, 7, 8]\n",
    "    \n",
    "    # Задаем смещение\n",
    "    num_shift = 3\n",
    "    \n",
    "    # Вращиваем список\n",
    "    new_list = rotate_list(num_list, num_shift)\n",
    "    \n",
    "    # Выводим результат\n",
    "    print(f'Для списка {num_list} новый список со смещением {num_shift} равен {new_list}')\n",
    "\n",
    "if __name__ == \"__main__\":\n",
    "    main()"
   ]
  },
  {
   "cell_type": "markdown",
   "metadata": {},
   "source": [
    "# Задача 3\n",
    "Напишите программу для печати всех уникальных значений в словаре.\n",
    "\n",
    "Input: \n",
    "[{\"V\": \"S001\"}, {\"V\": \"S002\"}, {\"VI\": \"S001\"}, {\"VI\": \"S005\"}, {\"VII\": \" S005 \"}, {\" V \":\" S009 \"}, {\" VIII \":\" S007 \"}]\n",
    "\n",
    "Output: {'S005', 'S002', 'S007', 'S001', 'S009'}"
   ]
  },
  {
   "cell_type": "code",
   "execution_count": null,
   "metadata": {},
   "outputs": [],
   "source": [
    "# решение кодом здесь"
   ]
  },
  {
   "cell_type": "markdown",
   "metadata": {},
   "source": [
    "# Пример решения"
   ]
  },
  {
   "cell_type": "code",
   "execution_count": 9,
   "metadata": {},
   "outputs": [
    {
     "name": "stdout",
     "output_type": "stream",
     "text": [
      "{' S005 ', ' S007 ', 'S002', 'S001', ' S009 ', 'S005'}\n"
     ]
    }
   ],
   "source": [
    "start_dict = [{\"V\": \"S001\"}, {\"V\": \"S002\"}, {\"VI\": \"S001\"}, {\"VI\": \"S005\"}, {\"VII\": \" S005 \"}, {\" V \": \" S009 \"},\n",
    "        {\" VIII \": \" S007 \"}]\n",
    "\n",
    "result_set = set()\n",
    "\n",
    "for mini_dict in start_dict:\n",
    "    result_set = result_set.union(set(mini_dict.values()))\n",
    "\n",
    "print(result_set)"
   ]
  },
  {
   "cell_type": "code",
   "execution_count": 10,
   "metadata": {},
   "outputs": [
    {
     "name": "stdout",
     "output_type": "stream",
     "text": [
      "Файл input.json не найден\n",
      "Данные были успешно обработаны и сохранены в output.txt\n"
     ]
    }
   ],
   "source": [
    "# Модуль для работы с данными из JSON и TXT файлов\n",
    "\n",
    "def load_json_data(file_path):\n",
    "    \"\"\"\n",
    "    Загружает данные из JSON файла.\n",
    "    \n",
    "    Args:\n",
    "        file_path (str): Путь к JSON файлу.\n",
    "    \n",
    "    Returns:\n",
    "        list: Список словарей.\n",
    "    \"\"\"\n",
    "    data = []\n",
    "    try:\n",
    "        with open(file_path, 'r') as file:\n",
    "            for line in file:\n",
    "                try:\n",
    "                    dict_ = eval(line.strip())\n",
    "                    if isinstance(dict_, dict):\n",
    "                        data.append(dict_)\n",
    "                except SyntaxError:\n",
    "                    print(f\"Проблема с синтаксисом в строке {line.strip()}\")\n",
    "    except FileNotFoundError:\n",
    "        print(f\"Файл {file_path} не найден\")\n",
    "    return data\n",
    "\n",
    "def extract_values(data):\n",
    "    \"\"\"\n",
    "    Извлекает значения из списка словарей и формирует множество уникальных значений.\n",
    "    \n",
    "    Args:\n",
    "        data (list): Список словарей.\n",
    "    \n",
    "    Returns:\n",
    "        set: Множество уникальных значений.\n",
    "    \"\"\"\n",
    "    result_set = set()\n",
    "    for dictionary in data:\n",
    "        for value in dictionary.values():\n",
    "            result_set.add(value.strip())\n",
    "    return result_set\n",
    "\n",
    "def process_data(input_file, output_file):\n",
    "    \"\"\"\n",
    "    Обрабатывает данные из входного файла и сохраняет результат в выходной файл.\n",
    "    \n",
    "    Args:\n",
    "        input_file (str): Путь к входному JSON файлу.\n",
    "        output_file (str): Путь к выходному TXT файлу.\n",
    "    \"\"\"\n",
    "    # Загрузка данных из JSON файла\n",
    "    data = load_json_data(input_file)\n",
    "    \n",
    "    # Извлечение уникальных значений\n",
    "    result_set = extract_values(data)\n",
    "    \n",
    "    # Запись результатов в TXT файл\n",
    "    with open(output_file, 'w') as file:\n",
    "        for item in sorted(result_set):\n",
    "            file.write(f\"{item}\\n\")\n",
    "\n",
    "def main():\n",
    "    # Пути к файлам\n",
    "    input_file = 'input.json'\n",
    "    output_file = 'output.txt'\n",
    "    \n",
    "    # Обработка данных\n",
    "    process_data(input_file, output_file)\n",
    "    \n",
    "    print(f\"Данные были успешно обработаны и сохранены в {output_file}\")\n",
    "\n",
    "if __name__ == \"__main__\":\n",
    "    main()"
   ]
  },
  {
   "cell_type": "markdown",
   "metadata": {},
   "source": [
    "# Задача 4\n",
    "Напишите программу, которая принимает на вход строку и отслеживает, сколько раз каждый символ уже встречался.\n",
    "Количество повторов добавляется к символам с помощью постфикса формата _n.\n",
    "\n",
    "Input: a a a b c a a d c d d\n",
    "\n",
    "Output: a a_1 a_2 b c a_3 a_4 d c_1 d_1 d_2"
   ]
  },
  {
   "cell_type": "code",
   "execution_count": null,
   "metadata": {},
   "outputs": [],
   "source": [
    "# решение кодом здесь"
   ]
  },
  {
   "cell_type": "markdown",
   "metadata": {},
   "source": [
    "# Пример решения"
   ]
  },
  {
   "cell_type": "code",
   "execution_count": 12,
   "metadata": {},
   "outputs": [
    {
     "name": "stdout",
     "output_type": "stream",
     "text": [
      "a, a_1, a_2, b, c, a_3, a_4, d, c_1, d_1, d_2, a_5, c_2, b_1, d_3, a_6\n"
     ]
    }
   ],
   "source": [
    "input_text = \"a a a b c a a d c d d a c b d a\"\n",
    "text_list = input_text.split()\n",
    "new_list = []\n",
    "for i in range(len(text_list)):\n",
    "    if text_list[i] in text_list[:i]:\n",
    "        new_list.append(text_list[i] + \"_\" + str(text_list[:i].count(text_list[i]))) #.count выводит номер элемента\n",
    "    else:\n",
    "        new_list.append(text_list[i])\n",
    "print(\", \" .join(new_list)) # .join добавляет элемент"
   ]
  },
  {
   "cell_type": "code",
   "execution_count": 13,
   "metadata": {},
   "outputs": [
    {
     "name": "stdout",
     "output_type": "stream",
     "text": [
      "Результат подсчета символов:\n",
      "a: 5\n",
      "b: 1\n",
      "c: 2\n",
      "d: 3\n"
     ]
    }
   ],
   "source": [
    "s = input(\"Введите строку: \")\n",
    "words = s.split()\n",
    "char_count = {}\n",
    "for word in words:\n",
    "    for char in word:\n",
    "        if char in char_count:\n",
    "            char_count[char] += 1\n",
    "        else:\n",
    "            char_count[char] = 1\n",
    "\n",
    "print(\"Результат подсчета символов:\")\n",
    "for char, count in char_count.items():\n",
    "    print(f\"{char}: {count}\")"
   ]
  },
  {
   "cell_type": "markdown",
   "metadata": {},
   "source": [
    "# Задача 5\n",
    "Пользователь вводит текст(строка). Словом считается\n",
    "последовательность непробельных символов идущих\n",
    "подряд, слова разделены одним или большим числом\n",
    "пробелов. Определите, сколько различных слов\n",
    "содержится в этом тексте.\n",
    "\n",
    "Input: She sells sea shells on the sea shore The shells that she sells are sea shells I'm sure So if she sells sea shells on the sea shore I'm sure that the shells are sea shore shells\n",
    "\n",
    "Output: 13"
   ]
  },
  {
   "cell_type": "code",
   "execution_count": null,
   "metadata": {},
   "outputs": [],
   "source": [
    "# решение кодом здесь"
   ]
  },
  {
   "cell_type": "markdown",
   "metadata": {},
   "source": [
    "# Пример решения"
   ]
  },
  {
   "cell_type": "code",
   "execution_count": 14,
   "metadata": {},
   "outputs": [
    {
     "name": "stdout",
     "output_type": "stream",
     "text": [
      "13\n"
     ]
    }
   ],
   "source": [
    "input_text = \"She sells sea shells on the sea shore The shells that she sells are sea shells I'm sure So if she sells sea shells on the sea shore I'm sure that the shells are sea shore shells\".lower()\n",
    "print(len(set(input_text.split())))\n",
    "# .lower() убирает регистр\n",
    "# len() - выводит длинну списка, set() - делает из списка множество (в нем нет повторяющихся элементов) .split() - убирает элемент по умолчанию пробел"
   ]
  },
  {
   "cell_type": "code",
   "execution_count": 15,
   "metadata": {},
   "outputs": [
    {
     "name": "stdout",
     "output_type": "stream",
     "text": [
      "Количество уникальных слов: 13\n"
     ]
    }
   ],
   "source": [
    "import os\n",
    "\n",
    "def read_file(file_path):\n",
    "    \"\"\"\n",
    "    Читает содержимое файла и возвращает его как строку.\n",
    "    \n",
    "    Args:\n",
    "    file_path (str): Путь к файлу для чтения.\n",
    "    \n",
    "    Returns:\n",
    "    str: Содержимое файла.\n",
    "    \n",
    "    Raises:\n",
    "    FileNotFoundError: Если указанный файл не найден.\n",
    "    IOError: При ошибке при чтении файла.\n",
    "    \"\"\"\n",
    "    try:\n",
    "        with open(file_path, 'r', encoding='utf-8') as file:\n",
    "            return file.read()\n",
    "    except FileNotFoundError:\n",
    "        print(f\"Ошибка: Файл '{file_path}' не найден.\")\n",
    "        raise\n",
    "    except IOError as e:\n",
    "        print(f\"Ошибка при чтении файла: {e}\")\n",
    "        raise\n",
    "\n",
    "def process_text(text):\n",
    "    \"\"\"\n",
    "    Обрабатывает текст, вычисляя количество уникальных слов.\n",
    "    \n",
    "    Args:\n",
    "    text (str): Текст для обработки.\n",
    "    \n",
    "    Returns:\n",
    "    int: Количество уникальных слов в тексте.\n",
    "    \"\"\"\n",
    "    # Приводит текст к нижнему регистру\n",
    "    lower_text = text.lower()\n",
    "    \n",
    "    # Разбивает текст на слова и создает множество уникальных слов\n",
    "    unique_words = set(lower_text.split())\n",
    "    \n",
    "    # Возвращает количество уникальных слов\n",
    "    return len(unique_words)\n",
    "\n",
    "def main():\n",
    "    \"\"\"\n",
    "    Основная функция программы.\n",
    "    \n",
    "    Позволяет выбрать источник текста (файл или ввод с клавиатуры).\n",
    "    \"\"\"\n",
    "    while True:\n",
    "        choice = input(\"Введите 'f' для чтения из файла или любую другую клавишу для ввода с клавиатуры: \")\n",
    "        \n",
    "        if choice.lower() == 'f':\n",
    "            file_path = input(\"Введите путь к файлу: \")\n",
    "            try:\n",
    "                text = read_file(file_path)\n",
    "                word_count = process_text(text)\n",
    "                print(f\"Количество уникальных слов в тексте: {word_count}\")\n",
    "                break\n",
    "            except Exception as e:\n",
    "                print(f\"Ошибка при чтении файла или обработке текста: {e}\")\n",
    "                continue\n",
    "        \n",
    "        else:\n",
    "            input_text = input(\"Введите текст для обработки: \")\n",
    "            word_count = process_text(input_text)\n",
    "            print(f\"Количество уникальных слов: {word_count}\")\n",
    "            break\n",
    "\n",
    "if __name__ == \"__main__\":\n",
    "    main()"
   ]
  },
  {
   "cell_type": "markdown",
   "metadata": {},
   "source": [
    "# Задача 6\n",
    "Хакер Василий получил доступ к классному журналу и хочет заменить все свои минимальные оценки на\n",
    "максимальные. Напишите программу, которая заменяет оценки Василия, но наоборот: все максимальные – на минимальные.\n",
    "\n",
    "\n",
    "Input: [5, 4, 3, 5, 2, 1, 5]\n",
    "\n",
    "Output: \n",
    "Изменённые оценки:  [1, 1, 3, 1, 2, 1, 1]"
   ]
  },
  {
   "cell_type": "code",
   "execution_count": null,
   "metadata": {},
   "outputs": [],
   "source": [
    "# решение кодом здесь"
   ]
  },
  {
   "cell_type": "markdown",
   "metadata": {},
   "source": [
    "# Пример решения"
   ]
  },
  {
   "cell_type": "code",
   "execution_count": 28,
   "metadata": {},
   "outputs": [
    {
     "name": "stdout",
     "output_type": "stream",
     "text": [
      "\n",
      "Все оценки: [5, 4, 3, 5, 2, 1, 5]\n",
      "Изменённые оценки: [1, 1, 1, 1, 2, 1, 1]\n"
     ]
    }
   ],
   "source": [
    "def get_input_from_user(marks_journal_count, MAX_MARK=5, MIN_MARK=1):\n",
    "    \"\"\"Получает оценки от пользователя.\"\"\"\n",
    "    marks = []\n",
    "    \n",
    "    for item in range(marks_journal_count):\n",
    "        try:\n",
    "            mark = int(input(f\"Введите оценку {item+1}/{marks_journal_count}: \"))\n",
    "            if MIN_MARK <= mark <= MAX_MARK:\n",
    "                marks.append(mark)\n",
    "            else:\n",
    "                print(f\"Пожалуйста, введите оценку от {MIN_MARK} до {MAX_MARK}.\")\n",
    "        except ValueError:\n",
    "            print(\"Пожалуйста, введите число.\")\n",
    "    \n",
    "    return marks\n",
    "\n",
    "def swap_marks(marks, LOWER_GRADE=1, BORDER_GRADE=3):\n",
    "    \"\"\"Заменяет максимальные оценки на минимальные.\"\"\"\n",
    "    swapped_marks = []\n",
    "\n",
    "    for mark in marks:\n",
    "        if mark >= BORDER_GRADE:\n",
    "            swapped_marks.append(LOWER_GRADE)\n",
    "        else:\n",
    "            swapped_marks.append(mark)\n",
    "\n",
    "    return swapped_marks\n",
    "\n",
    "def main():\n",
    "    marks_journal_count = int(input(\"Введите количество оценок (не больше 10): \"))\n",
    "    \n",
    "    if marks_journal_count > 10:\n",
    "        print(\"Количество оценок не должно превышать 10.\")\n",
    "        return\n",
    "\n",
    "    marks = get_input_from_user(marks_journal_count)\n",
    "    print(\"\\nВсе оценки:\", marks)\n",
    "    \n",
    "    swapped_marks = swap_marks(marks)\n",
    "    print(\"Изменённые оценки:\", swapped_marks)\n",
    "\n",
    "if __name__ == \"__main__\":\n",
    "    main()"
   ]
  },
  {
   "cell_type": "markdown",
   "metadata": {},
   "source": [
    "# Задача 7.\n",
    "Дано натуральное число N и последовательность из N элементов. \n",
    "\n",
    "Требуется вывести эту последовательность в обратном порядке.\n",
    "\n",
    "Примечание. В программе запрещается объявлять массивы и использовать циклы (даже для ввода и вывода).\n",
    "\n",
    "Input: 2 -> 3 4\n",
    "\n",
    "Output: 4 3\n"
   ]
  },
  {
   "cell_type": "code",
   "execution_count": null,
   "metadata": {},
   "outputs": [],
   "source": [
    "# решение кодом здесь"
   ]
  },
  {
   "cell_type": "markdown",
   "metadata": {},
   "source": [
    "# Пример решения"
   ]
  },
  {
   "cell_type": "code",
   "execution_count": 36,
   "metadata": {},
   "outputs": [
    {
     "name": "stdout",
     "output_type": "stream",
     "text": [
      "Данная программа принимает ввод от пользователя и выводит его в обратном порядке.\n",
      "Пример ввода: 2 -> 3 4\n",
      "После ввода нажмите Enter.\n",
      "Последовательность в обратном порядке:\n",
      "4 3\n"
     ]
    }
   ],
   "source": [
    "import sys\n",
    "\n",
    "def reverse_sequence(sequence):\n",
    "    \"\"\"\n",
    "    Возвращает последовательность в обратном порядке.\n",
    "    \n",
    "    Args:\n",
    "        sequence (tuple): Последовательность из N элементов.\n",
    "    \n",
    "    Returns:\n",
    "        tuple: Последовательность в обратном порядке.\n",
    "    \"\"\"\n",
    "    if len(sequence) <= 1:\n",
    "        return sequence\n",
    "    \n",
    "    return reverse_sequence(sequence[1:]) + (sequence[0],)\n",
    "\n",
    "def get_input_from_user():\n",
    "    \"\"\"\n",
    "    Получает ввод от пользователя и преобразует его в кортеж.\n",
    "    \n",
    "    Returns:\n",
    "        tuple: Кортеж из введенных элементов.\n",
    "    \"\"\"\n",
    "    user_input = input(\"Введите числа через пробел: \")\n",
    "    return tuple(map(int, user_input.split()))\n",
    "\n",
    "def main():\n",
    "    print(\"Данная программа принимает ввод от пользователя и выводит его в обратном порядке.\")\n",
    "    print(\"Пример ввода: 2 -> 3 4\")\n",
    "    print(\"После ввода нажмите Enter.\")\n",
    "\n",
    "    # Получаем ввод от пользователя\n",
    "    sequence = get_input_from_user()\n",
    "\n",
    "    # Выводим результат\n",
    "    reversed_seq = reverse_sequence(sequence)\n",
    "    print(\"Последовательность в обратном порядке:\")\n",
    "    print(\" \".join(map(str, reversed_seq)))\n",
    "\n",
    "if __name__ == \"__main__\":\n",
    "    main()"
   ]
  }
 ],
 "metadata": {
  "kernelspec": {
   "display_name": ".folder",
   "language": "python",
   "name": "python3"
  },
  "language_info": {
   "codemirror_mode": {
    "name": "ipython",
    "version": 3
   },
   "file_extension": ".py",
   "mimetype": "text/x-python",
   "name": "python",
   "nbconvert_exporter": "python",
   "pygments_lexer": "ipython3",
   "version": "3.12.1"
  }
 },
 "nbformat": 4,
 "nbformat_minor": 2
}
