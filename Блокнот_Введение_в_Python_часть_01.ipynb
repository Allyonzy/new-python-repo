{
  "cells": [
    {
      "cell_type": "markdown",
      "metadata": {
        "id": "3mH4lbPCgwL6"
      },
      "source": [
        "# Введение в Python\n",
        "\n",
        "Для прикладных целей важно овладеть несколькими аспектами:\n",
        "\n",
        "* Структурное программирование\n",
        "  * Переменная в Python\n",
        "  * Основные типы данных\n",
        "  * Форматный вывод\n",
        "  * Математические операции и стандартные функции в Python\n",
        "* Функции в Python возвращаемые и невозвращаемые и их применение\n",
        "* Типовые исключения (ошибки программы) в Python"
      ]
    },
    {
      "cell_type": "markdown",
      "metadata": {
        "id": "x2qyds6jrUew"
      },
      "source": [
        "# Структурное программирование"
      ]
    },
    {
      "cell_type": "markdown",
      "metadata": {
        "id": "eXjmiQJCgwMC"
      },
      "source": [
        "## Стандартные функции языка\n",
        "\n",
        "Функции - это маленькие блоки, которые умеют выполнять какую-то операцию <br />\n",
        "Функции <b>вызываются</b>, после имени функции следуют круглые скобки, в которых указываются <b>аргументы</b> (над каким объектом будет выполнена операция) и <b>параметры </b> (с какими условиями)"
      ]
    },
    {
      "cell_type": "markdown",
      "metadata": {
        "id": "DWpeBni2gwMF"
      },
      "source": [
        "### print()\n",
        "Функция для вывода содержимого на экран. <br>\n",
        "**Обязательно**: передать хотя бы какой-то объект, который нужно напечатать.\n",
        "\n",
        "Ее полный синтаксис:\n",
        "\n",
        "print(*objects, sep=' ', end='\\n', file=sys.stdout, flush=False)¶\n",
        "- objects: один или несколько объектов для вывода, перечисленные через запятую\n",
        "- sep: разделитель между несколькими объектами; стандартно установлен пробел\n",
        "- end: окончание строки; стандартно установлен перевод на новую строчку '\\n'"
      ]
    },
    {
      "cell_type": "code",
      "execution_count": 1,
      "metadata": {
        "colab": {
          "base_uri": "https://localhost:8080/"
        },
        "id": "ZBcwztmQgwML",
        "outputId": "62c45fa6-b450-4b19-c8c5-8b4e99d30b76"
      },
      "outputs": [
        {
          "name": "stdout",
          "output_type": "stream",
          "text": [
            "5\n"
          ]
        }
      ],
      "source": [
        "print(5)"
      ]
    },
    {
      "cell_type": "code",
      "execution_count": null,
      "metadata": {
        "id": "oMadMtROgwMf"
      },
      "outputs": [],
      "source": [
        "print?"
      ]
    },
    {
      "cell_type": "code",
      "execution_count": null,
      "metadata": {
        "colab": {
          "base_uri": "https://localhost:8080/"
        },
        "id": "DZTqDs3egwMv",
        "outputId": "5a3d6494-33da-4335-e2d3-0bfd9feb847e"
      },
      "outputs": [
        {
          "name": "stdout",
          "output_type": "stream",
          "text": [
            "Переменная равна 8 метров\n"
          ]
        }
      ],
      "source": [
        "print(\"Переменная равна\",8, \"метров\")"
      ]
    },
    {
      "cell_type": "code",
      "execution_count": null,
      "metadata": {
        "colab": {
          "base_uri": "https://localhost:8080/"
        },
        "id": "WpxbyEEZgwNA",
        "outputId": "d8fca8c3-bbb5-43c9-d1f6-1b7b324e251c"
      },
      "outputs": [
        {
          "name": "stdout",
          "output_type": "stream",
          "text": [
            "5;6;7;8\n"
          ]
        }
      ],
      "source": [
        "print(5, 6, 7, 8, sep=';')"
      ]
    },
    {
      "cell_type": "code",
      "execution_count": null,
      "metadata": {
        "colab": {
          "base_uri": "https://localhost:8080/"
        },
        "id": "Zf3QuweTgwNS",
        "outputId": "6bbda38e-35e9-4fb1-c33f-a50779a3eadf"
      },
      "outputs": [
        {
          "name": "stdout",
          "output_type": "stream",
          "text": [
            "Май\n"
          ]
        }
      ],
      "source": [
        "print(\"Май\")"
      ]
    },
    {
      "cell_type": "code",
      "execution_count": null,
      "metadata": {
        "colab": {
          "base_uri": "https://localhost:8080/"
        },
        "id": "YQGzrhTwgwNj",
        "outputId": "d7bcacf1-307e-4a5b-ce50-c1aad7282e4b"
      },
      "outputs": [
        {
          "name": "stdout",
          "output_type": "stream",
          "text": [
            "Переменная равна: 17метров\n"
          ]
        }
      ],
      "source": [
        "print('Переменная равна: {}метров'.format(17))"
      ]
    },
    {
      "cell_type": "code",
      "execution_count": null,
      "metadata": {
        "colab": {
          "base_uri": "https://localhost:8080/"
        },
        "id": "3imScjy0wvX9",
        "outputId": "2b0181b5-a6ee-42e3-8156-1a2a0018507c"
      },
      "outputs": [
        {
          "name": "stdout",
          "output_type": "stream",
          "text": [
            "Переменная равна: 5.1 и вторая переменная равна: 7.938\n"
          ]
        }
      ],
      "source": [
        "print('Переменная равна: {:.1f} и вторая переменная равна: {:.3f}'.format(5.123, 7.9384950))"
      ]
    },
    {
      "cell_type": "markdown",
      "metadata": {
        "id": "BDS_hmbhgwOk"
      },
      "source": [
        "### input()\n",
        "Функция для ввода данных в программу с клавиатуры. <br>\n",
        "Обязательных аргументов нет. Можно передавать строчку, которая будет выведена перед ячейкой ввода."
      ]
    },
    {
      "cell_type": "code",
      "execution_count": null,
      "metadata": {
        "id": "SspEu4B1xwgi"
      },
      "outputs": [],
      "source": [
        "input?"
      ]
    },
    {
      "cell_type": "code",
      "execution_count": null,
      "metadata": {
        "colab": {
          "base_uri": "https://localhost:8080/"
        },
        "id": "GhHjA1Ctx-Zz",
        "outputId": "76bf3d42-7d23-4756-e18f-728d720eb06e"
      },
      "outputs": [
        {
          "data": {
            "text/plain": [
              "5"
            ]
          },
          "execution_count": 3,
          "metadata": {},
          "output_type": "execute_result"
        }
      ],
      "source": [
        "5"
      ]
    },
    {
      "cell_type": "code",
      "execution_count": null,
      "metadata": {
        "id": "bXbSWMcOyBV9"
      },
      "outputs": [],
      "source": [
        "number = 5"
      ]
    },
    {
      "cell_type": "code",
      "execution_count": null,
      "metadata": {
        "colab": {
          "base_uri": "https://localhost:8080/"
        },
        "id": "wPSeazr9yTcg",
        "outputId": "747bdacf-688f-4831-ae18-3aea05e413ed"
      },
      "outputs": [
        {
          "data": {
            "text/plain": [
              "int"
            ]
          },
          "execution_count": 6,
          "metadata": {},
          "output_type": "execute_result"
        }
      ],
      "source": [
        "type(number)"
      ]
    },
    {
      "cell_type": "code",
      "execution_count": null,
      "metadata": {
        "id": "h597t-v2zrug"
      },
      "outputs": [],
      "source": [
        "float_number = 5.23"
      ]
    },
    {
      "cell_type": "code",
      "execution_count": null,
      "metadata": {
        "colab": {
          "base_uri": "https://localhost:8080/",
          "height": 106
        },
        "id": "BLjYJ3h1z3Mj",
        "outputId": "785dda20-37e4-455f-a4b1-49ddfdf236a0"
      },
      "outputs": [
        {
          "ename": "SyntaxError",
          "evalue": "invalid syntax (<ipython-input-18-dc37e469b239>, line 1)",
          "output_type": "error",
          "traceback": [
            "\u001b[0;36m  File \u001b[0;32m\"<ipython-input-18-dc37e469b239>\"\u001b[0;36m, line \u001b[0;32m1\u001b[0m\n\u001b[0;31m    float test = 56.34\u001b[0m\n\u001b[0m          ^\u001b[0m\n\u001b[0;31mSyntaxError\u001b[0m\u001b[0;31m:\u001b[0m invalid syntax\n"
          ]
        }
      ],
      "source": [
        "float test = 56.34"
      ]
    },
    {
      "cell_type": "code",
      "execution_count": null,
      "metadata": {
        "colab": {
          "base_uri": "https://localhost:8080/"
        },
        "id": "3NcU3oUTzxFl",
        "outputId": "10bcbf51-3582-4e1d-e77f-b958b4d202e8"
      },
      "outputs": [
        {
          "data": {
            "text/plain": [
              "float"
            ]
          },
          "execution_count": 16,
          "metadata": {},
          "output_type": "execute_result"
        }
      ],
      "source": [
        "type(float_number)"
      ]
    },
    {
      "cell_type": "code",
      "execution_count": null,
      "metadata": {
        "colab": {
          "base_uri": "https://localhost:8080/"
        },
        "id": "3Twahr5gyGEz",
        "outputId": "7490533e-ce2c-407d-ba1a-b20390ba510d"
      },
      "outputs": [
        {
          "data": {
            "text/plain": [
              "6"
            ]
          },
          "execution_count": 5,
          "metadata": {},
          "output_type": "execute_result"
        }
      ],
      "source": [
        "int(number) + 1"
      ]
    },
    {
      "cell_type": "code",
      "execution_count": null,
      "metadata": {
        "colab": {
          "base_uri": "https://localhost:8080/"
        },
        "id": "0YgIuroCgwOp",
        "outputId": "e7d768a0-8ff8-4af7-ed38-fa9e8af84617"
      },
      "outputs": [
        {
          "name": "stdout",
          "output_type": "stream",
          "text": [
            "Елена\n",
            "Меня зовут  Елена\n"
          ]
        }
      ],
      "source": [
        "my_name = input() # переменная, текст\n",
        "print('Меня зовут ', my_name)"
      ]
    },
    {
      "cell_type": "markdown",
      "metadata": {
        "id": "Asnp0MjxgwO3"
      },
      "source": [
        "А здесь небольшое преобразование позволит вывести перед ячейкой ввода нужный текст"
      ]
    },
    {
      "cell_type": "code",
      "execution_count": null,
      "metadata": {
        "colab": {
          "base_uri": "https://localhost:8080/"
        },
        "id": "id69vPyigwO8",
        "outputId": "561c980a-461d-472e-8f04-319fb40408af"
      },
      "outputs": [
        {
          "name": "stdout",
          "output_type": "stream",
          "text": [
            "Введите ваше ФИО:!!!! 123\n",
            "Меня зовут  123\n"
          ]
        }
      ],
      "source": [
        "name = input('Введите ваше ФИО:!!!! ')\n",
        "print('Меня зовут ', name)"
      ]
    },
    {
      "cell_type": "markdown",
      "metadata": {
        "id": "FeQVYlIqN4hh"
      },
      "source": [
        "### Задача 1: Приветствие"
      ]
    },
    {
      "cell_type": "markdown",
      "metadata": {
        "id": "xFweAJNiN8J4"
      },
      "source": [
        "Написать программу, где с клавиатуры вводится имя и выводится \"Добро пожаловать в Data Science, %имя%\"\n",
        "\n",
        "**Вход программы:** Марсель\n",
        "\n",
        "**Выход программы:** Добро пожаловать в Data Science, Марсель!"
      ]
    },
    {
      "cell_type": "code",
      "execution_count": null,
      "metadata": {
        "id": "5UUnDj_u6FHu"
      },
      "outputs": [],
      "source": [
        "# написать решение задачи"
      ]
    },
    {
      "cell_type": "markdown",
      "metadata": {
        "id": "TUfYRN2h6JBs"
      },
      "source": [
        "### Задача 1: Приветствие (решение)"
      ]
    },
    {
      "cell_type": "code",
      "execution_count": null,
      "metadata": {
        "colab": {
          "base_uri": "https://localhost:8080/"
        },
        "id": "rJQd4iyDOTfm",
        "outputId": "38d8047b-ac61-4f8b-b425-1b9f005cd876"
      },
      "outputs": [
        {
          "name": "stdout",
          "output_type": "stream",
          "text": [
            "Введите ваше имя: Марсель\n",
            "Добро пожаловать в Data Science, Марсель!\n"
          ]
        }
      ],
      "source": [
        "# Ячейка, где нужно написать код задачи\n",
        "\n",
        "# Запрашиваем у пользователя его имя (вводится текст)\n",
        "name = input(\"Введите ваше имя: \")\n",
        "\n",
        "# Выводим приветствие с использованием введенного имени\n",
        "print(f\"Добро пожаловать в Data Science, {name}!\")"
      ]
    },
    {
      "cell_type": "markdown",
      "metadata": {
        "id": "ww4wAtrT-6Ap"
      },
      "source": [
        "### Переменные: введение"
      ]
    },
    {
      "cell_type": "code",
      "execution_count": null,
      "metadata": {
        "colab": {
          "base_uri": "https://localhost:8080/",
          "height": 35
        },
        "id": "OhcSEe4g23Ej",
        "outputId": "f531bacf-9c7e-4e37-8c1b-a08be98ecf98"
      },
      "outputs": [
        {
          "data": {
            "application/vnd.google.colaboratory.intrinsic+json": {
              "type": "string"
            },
            "text/plain": [
              "'Это строка'"
            ]
          },
          "execution_count": 20,
          "metadata": {},
          "output_type": "execute_result"
        }
      ],
      "source": [
        "'Это строка'"
      ]
    },
    {
      "cell_type": "code",
      "execution_count": null,
      "metadata": {
        "id": "UaFh1XW426-A"
      },
      "outputs": [],
      "source": [
        "test_text = \"Это строка\" #неизменяемая"
      ]
    },
    {
      "cell_type": "code",
      "execution_count": null,
      "metadata": {
        "colab": {
          "base_uri": "https://localhost:8080/"
        },
        "id": "o8TOb2Ty2-3-",
        "outputId": "58bc8368-e235-4ec6-810d-229a7b6b8a74"
      },
      "outputs": [
        {
          "data": {
            "text/plain": [
              "str"
            ]
          },
          "execution_count": 22,
          "metadata": {},
          "output_type": "execute_result"
        }
      ],
      "source": [
        "type(test_text)"
      ]
    },
    {
      "cell_type": "code",
      "execution_count": null,
      "metadata": {
        "id": "K2vM3IpD3HGW"
      },
      "outputs": [],
      "source": [
        "test_text = test_text + \"678\""
      ]
    },
    {
      "cell_type": "code",
      "execution_count": null,
      "metadata": {
        "colab": {
          "base_uri": "https://localhost:8080/",
          "height": 35
        },
        "id": "ZX04PWvx3MWv",
        "outputId": "34be8471-5f12-467e-f208-3946abf89249"
      },
      "outputs": [
        {
          "data": {
            "application/vnd.google.colaboratory.intrinsic+json": {
              "type": "string"
            },
            "text/plain": [
              "'Это строка678'"
            ]
          },
          "execution_count": 24,
          "metadata": {},
          "output_type": "execute_result"
        }
      ],
      "source": [
        "test_text"
      ]
    },
    {
      "cell_type": "code",
      "execution_count": null,
      "metadata": {
        "id": "U0ZJZgHk3O0y"
      },
      "outputs": [],
      "source": [
        "compl = complex(4)\n",
        "test_list = [45, 3.6, 345.56, compl, \"jhgfgjfdf\", 'sfsdgdfg', [8, 'sfsdf', \"Дорога\"], float(78.7)]\n",
        "# нумерация list всегда с 0"
      ]
    },
    {
      "cell_type": "code",
      "execution_count": null,
      "metadata": {
        "colab": {
          "base_uri": "https://localhost:8080/"
        },
        "id": "zlbGih_X3kUm",
        "outputId": "05e32e9c-c5e4-4d6c-c282-cc0aa057e7cd"
      },
      "outputs": [
        {
          "data": {
            "text/plain": [
              "complex"
            ]
          },
          "execution_count": 32,
          "metadata": {},
          "output_type": "execute_result"
        }
      ],
      "source": [
        "type(test_list[3])"
      ]
    },
    {
      "cell_type": "code",
      "execution_count": null,
      "metadata": {
        "colab": {
          "base_uri": "https://localhost:8080/"
        },
        "id": "vBhFHzJS4CBu",
        "outputId": "18a8038c-f537-42e4-eee8-0f4ab28f795a"
      },
      "outputs": [
        {
          "data": {
            "text/plain": [
              "float"
            ]
          },
          "execution_count": 33,
          "metadata": {},
          "output_type": "execute_result"
        }
      ],
      "source": [
        "type(test_list[1])"
      ]
    },
    {
      "cell_type": "code",
      "execution_count": null,
      "metadata": {
        "colab": {
          "base_uri": "https://localhost:8080/"
        },
        "id": "k0keyRgE4ETQ",
        "outputId": "62733127-ce58-4798-dbaf-089af40684f8"
      },
      "outputs": [
        {
          "data": {
            "text/plain": [
              "int"
            ]
          },
          "execution_count": 34,
          "metadata": {},
          "output_type": "execute_result"
        }
      ],
      "source": [
        "type(test_list[0])"
      ]
    },
    {
      "cell_type": "code",
      "execution_count": null,
      "metadata": {
        "colab": {
          "base_uri": "https://localhost:8080/"
        },
        "id": "82G16Bb_4G9M",
        "outputId": "638d951e-fa32-444f-91cc-6e64e4edfeac"
      },
      "outputs": [
        {
          "data": {
            "text/plain": [
              "float"
            ]
          },
          "execution_count": 35,
          "metadata": {},
          "output_type": "execute_result"
        }
      ],
      "source": [
        "type(test_list[-1])"
      ]
    },
    {
      "cell_type": "markdown",
      "metadata": {
        "id": "iCFaQsa2_E3x"
      },
      "source": [
        "#### Форматирование строк"
      ]
    },
    {
      "cell_type": "markdown",
      "metadata": {
        "id": "RI1Fp_1J_H7Q"
      },
      "source": [
        "Использование оператора % для вывода вещественного числа с двумя знаками после запятой:"
      ]
    },
    {
      "cell_type": "code",
      "execution_count": null,
      "metadata": {
        "colab": {
          "base_uri": "https://localhost:8080/"
        },
        "id": "HLTfrh62--qJ",
        "outputId": "bad4cd16-68f9-4ad3-d35f-b61cc59b9970"
      },
      "outputs": [
        {
          "name": "stdout",
          "output_type": "stream",
          "text": [
            "1.333\n"
          ]
        }
      ],
      "source": [
        "a = 4 / 3\n",
        "print('%.3f' % a)"
      ]
    },
    {
      "cell_type": "markdown",
      "metadata": {
        "id": "XQjkfFD2_I25"
      },
      "source": [
        "Использование метода format() для форматирования строки с именованными аргументами:"
      ]
    },
    {
      "cell_type": "code",
      "execution_count": null,
      "metadata": {
        "colab": {
          "base_uri": "https://localhost:8080/"
        },
        "id": "4ZDSqZtz_KfJ",
        "outputId": "2e80609a-2d02-42dc-9781-1665aaaff7f6"
      },
      "outputs": [
        {
          "name": "stdout",
          "output_type": "stream",
          "text": [
            "A = 3, B = 4, С = 7\n"
          ]
        }
      ],
      "source": [
        "print(\"A = {0}, B = {1}, С = {2}\".format(3, 4, 7))"
      ]
    },
    {
      "cell_type": "markdown",
      "metadata": {
        "id": "aWe5NESe_NXU"
      },
      "source": [
        "Использование оператора % для вывода символа по его коду:"
      ]
    },
    {
      "cell_type": "code",
      "execution_count": null,
      "metadata": {
        "colab": {
          "base_uri": "https://localhost:8080/"
        },
        "id": "2OvbuSFD_NlJ",
        "outputId": "55caee60-c09b-4b88-a386-34e17655fd40"
      },
      "outputs": [
        {
          "name": "stdout",
          "output_type": "stream",
          "text": [
            "½\n"
          ]
        }
      ],
      "source": [
        "print('%c' % 189)"
      ]
    },
    {
      "cell_type": "markdown",
      "metadata": {
        "id": "5FfoiiCf_TXi"
      },
      "source": [
        "Эти методы позволяют создавать хорошо структурированный и читаемый вывод данных в Python, что особенно полезно при работе с пользовательским интерфейсом, логированием или отчетностью.\n",
        "\n",
        "Использование f-строк в Python предлагает ряд преимуществ по сравнению с другими методами форматирования строк"
      ]
    },
    {
      "cell_type": "markdown",
      "metadata": {
        "id": "fBAON7s2_cXj"
      },
      "source": [
        "Пример использования f-строк в Python демонстрирует их гибкость и мощь в форматировании строк, включая встраивание выражений, форматирование чисел и дат, а также вывод имен переменных вместе с их значениями:"
      ]
    },
    {
      "cell_type": "code",
      "execution_count": null,
      "metadata": {
        "colab": {
          "base_uri": "https://localhost:8080/"
        },
        "id": "hrDSblXP_d_x",
        "outputId": "ad6ef9d8-976c-4989-99ef-333f57187307"
      },
      "outputs": [
        {
          "name": "stdout",
          "output_type": "stream",
          "text": [
            "Hello, my name is Марсель and I am 24 years old.\n"
          ]
        }
      ],
      "source": [
        "# Встраивание выражений\n",
        "name = \"Марсель\"\n",
        "age = 24\n",
        "print(f\"Hello, my name is {name} and I am {age} years old.\")"
      ]
    },
    {
      "cell_type": "code",
      "execution_count": null,
      "metadata": {
        "colab": {
          "base_uri": "https://localhost:8080/"
        },
        "id": "lzoGnhxF_ThK",
        "outputId": "e3f0ddf7-248a-4510-def1-54801bd41ac2"
      },
      "outputs": [
        {
          "name": "stdout",
          "output_type": "stream",
          "text": [
            "The number is 1,234,567,890 with leading zeros: 1234567890\n"
          ]
        }
      ],
      "source": [
        "# Форматирование чисел\n",
        "number = 1234567890\n",
        "print(f\"The number is {number:,} with leading zeros: {number:08}\")"
      ]
    },
    {
      "cell_type": "code",
      "execution_count": null,
      "metadata": {
        "colab": {
          "base_uri": "https://localhost:8080/"
        },
        "id": "wC62vUHZ_joi",
        "outputId": "05e1d710-5eb7-49d6-eadf-92bc211a7439"
      },
      "outputs": [
        {
          "name": "stdout",
          "output_type": "stream",
          "text": [
            "Current date and time: 2024-05-13 12:47:49\n"
          ]
        }
      ],
      "source": [
        "# Форматирование даты и времени\n",
        "from datetime import datetime\n",
        "now = datetime.now()\n",
        "print(f\"Current date and time: {now:%Y-%m-%d %H:%M:%S}\")"
      ]
    },
    {
      "cell_type": "code",
      "execution_count": null,
      "metadata": {
        "colab": {
          "base_uri": "https://localhost:8080/"
        },
        "id": "hDCoMEJJ_jrL",
        "outputId": "4ed48558-e266-4ad7-9892-501295596a0c"
      },
      "outputs": [
        {
          "name": "stdout",
          "output_type": "stream",
          "text": [
            "x = 10, y = 25\n",
            "x = 10, y = 25\n"
          ]
        }
      ],
      "source": [
        "# Вывод имен переменных вместе с их значениями (Python 3.8+)\n",
        "x = 10\n",
        "y = 25\n",
        "print(f\"x = {x}, y = {y}\")  # x = 10, y = 25\n",
        "print(f\"{x = }, {y = }\")  # x = 10, y = 25"
      ]
    },
    {
      "cell_type": "code",
      "execution_count": null,
      "metadata": {
        "colab": {
          "base_uri": "https://localhost:8080/"
        },
        "id": "DwVxdznd_jt3",
        "outputId": "f0424a05-aefb-4949-ec7f-c0417576dd2d"
      },
      "outputs": [
        {
          "name": "stdout",
          "output_type": "stream",
          "text": [
            "x = 10.000\n"
          ]
        }
      ],
      "source": [
        "# Форматирование с отладкой (Python 3.8+)\n",
        "print(f\"{x = :.3f}\")  # x = 10.000"
      ]
    },
    {
      "cell_type": "code",
      "execution_count": null,
      "metadata": {
        "colab": {
          "base_uri": "https://localhost:8080/"
        },
        "id": "-vpsbM3o_orZ",
        "outputId": "46026298-1635-4caf-ffdb-ce168d443db3"
      },
      "outputs": [
        {
          "name": "stdout",
          "output_type": "stream",
          "text": [
            "2024-05-13\n",
            "2024\n"
          ]
        }
      ],
      "source": [
        "# Форматирование даты и времени\n",
        "import datetime\n",
        "today = datetime.datetime.today()\n",
        "print(f\"{today:%Y-%m-%d}\")  # 2022-03-11\n",
        "print(f\"{today:%Y}\")  # 2022"
      ]
    },
    {
      "cell_type": "code",
      "execution_count": null,
      "metadata": {
        "colab": {
          "base_uri": "https://localhost:8080/"
        },
        "id": "V7_hVLIH_p-K",
        "outputId": "067cdb6c-d5b9-429b-d38a-3bb773ed4965"
      },
      "outputs": [
        {
          "name": "stdout",
          "output_type": "stream",
          "text": [
            "GeeksforGeeks is 13 characters.\n"
          ]
        }
      ],
      "source": [
        "# Пример с встраиванием выражений\n",
        "result = 5 * 2 + 3\n",
        "print(f\"GeeksforGeeks is {result} characters.\")\n"
      ]
    },
    {
      "cell_type": "markdown",
      "metadata": {
        "id": "FPmCE5oMgwPN"
      },
      "source": [
        "### Арифметические операции\n",
        "- Сложение: +\n",
        "- Вычитание: -\n",
        "- Умножение: *\n",
        "- Деление: /\n",
        "- Возведение в степень: ** (а не ^)\n",
        "- Целочисленное деление: //\n",
        "- Остаток от деления: %"
      ]
    },
    {
      "cell_type": "code",
      "execution_count": 5,
      "metadata": {
        "colab": {
          "base_uri": "https://localhost:8080/"
        },
        "id": "lzqViGqYgwPR",
        "outputId": "a5cb27f0-fa47-488c-89e4-667c71b578b7"
      },
      "outputs": [
        {
          "name": "stdout",
          "output_type": "stream",
          "text": [
            "Работаем с числами 5 и 2\n",
            "7\n",
            "3\n",
            "10\n",
            "2.5\n",
            "Результат возведения в степени: 25\n",
            "2\n",
            "Результат остатка от деления: 1\n"
          ]
        }
      ],
      "source": [
        "print('Работаем с числами', 5, 'и', 2)\n",
        "print(5 + 2)\n",
        "print(5 - 2)\n",
        "print(5 * 2)\n",
        "print(5 / 2)\n",
        "print('Результат возведения в степени:', 5 ** 2)\n",
        "print(5 // 2)\n",
        "print('Результат остатка от деления:', 5 % 2)"
      ]
    },
    {
      "cell_type": "code",
      "execution_count": 6,
      "metadata": {},
      "outputs": [
        {
          "name": "stdout",
          "output_type": "stream",
          "text": [
            "Результат вычисления квадратного корня: 2.23606797749979\n"
          ]
        }
      ],
      "source": [
        "print('Результат вычисления квадратного корня:', 5 ** (1/2))"
      ]
    },
    {
      "cell_type": "markdown",
      "metadata": {
        "id": "HWG-xiikgwPl"
      },
      "source": [
        "Для выведения результата на экран не обязательно прописывать print(), можно просто выполнить ячейку, при этом отобразиться результат только последней строчки кода:"
      ]
    },
    {
      "cell_type": "code",
      "execution_count": null,
      "metadata": {
        "id": "Em4g2ATNgwPs"
      },
      "outputs": [],
      "source": [
        "5 + 2"
      ]
    },
    {
      "cell_type": "code",
      "execution_count": null,
      "metadata": {
        "id": "WHo3fT33gwQE"
      },
      "outputs": [],
      "source": [
        "5 + 2\n",
        "5 * 2"
      ]
    },
    {
      "cell_type": "code",
      "execution_count": null,
      "metadata": {
        "id": "3zpgs4QcgwQV"
      },
      "outputs": [],
      "source": [
        "print(5 + 2)\n",
        "5 * 2"
      ]
    },
    {
      "cell_type": "code",
      "execution_count": null,
      "metadata": {
        "id": "vOuFjU_bgwQo"
      },
      "outputs": [],
      "source": [
        "print(5 + 2)\n",
        "print(5 * 2)"
      ]
    },
    {
      "cell_type": "code",
      "execution_count": null,
      "metadata": {
        "id": "sFGAN3Pj6sP6"
      },
      "outputs": [],
      "source": [
        "print(5 + 2, flush=True)"
      ]
    },
    {
      "cell_type": "code",
      "execution_count": null,
      "metadata": {
        "colab": {
          "base_uri": "https://localhost:8080/"
        },
        "id": "_b17wyoW5y80",
        "outputId": "67fd0087-1e04-4988-b62f-96772663444f"
      },
      "outputs": [
        {
          "data": {
            "text/plain": [
              "0"
            ]
          },
          "execution_count": 45,
          "metadata": {},
          "output_type": "execute_result"
        }
      ],
      "source": [
        "16 % 8"
      ]
    },
    {
      "cell_type": "code",
      "execution_count": null,
      "metadata": {
        "colab": {
          "base_uri": "https://localhost:8080/"
        },
        "id": "V_kUezCO54nh",
        "outputId": "3706221d-5811-45ca-931a-b0956177db8f"
      },
      "outputs": [
        {
          "data": {
            "text/plain": [
              "2"
            ]
          },
          "execution_count": 47,
          "metadata": {},
          "output_type": "execute_result"
        }
      ],
      "source": [
        "16 // 7"
      ]
    },
    {
      "cell_type": "code",
      "execution_count": null,
      "metadata": {
        "colab": {
          "base_uri": "https://localhost:8080/"
        },
        "id": "Jyog6AeG5823",
        "outputId": "419225c6-84c9-4ed7-af23-caac11631499"
      },
      "outputs": [
        {
          "data": {
            "text/plain": [
              "2.2857142857142856"
            ]
          },
          "execution_count": 48,
          "metadata": {},
          "output_type": "execute_result"
        }
      ],
      "source": [
        "16 / 7"
      ]
    },
    {
      "cell_type": "code",
      "execution_count": null,
      "metadata": {
        "colab": {
          "base_uri": "https://localhost:8080/"
        },
        "id": "zElJmzM16A-_",
        "outputId": "01cfedb7-f153-4154-d31f-2cc4354a98c8"
      },
      "outputs": [
        {
          "data": {
            "text/plain": [
              "9"
            ]
          },
          "execution_count": 49,
          "metadata": {},
          "output_type": "execute_result"
        }
      ],
      "source": [
        "3 ** 2"
      ]
    },
    {
      "cell_type": "code",
      "execution_count": 1,
      "metadata": {},
      "outputs": [
        {
          "name": "stdout",
          "output_type": "stream",
          "text": [
            "3.141592653589793\n"
          ]
        }
      ],
      "source": [
        "import math\n",
        "print(math.pi)"
      ]
    },
    {
      "cell_type": "code",
      "execution_count": 7,
      "metadata": {},
      "outputs": [
        {
          "name": "stdout",
          "output_type": "stream",
          "text": [
            "Факториал числа 5 равен 120\n"
          ]
        }
      ],
      "source": [
        "import math # библиотека работы с числами\n",
        "number = 5\n",
        "\n",
        "fact = math.factorial(5)\n",
        "print(f'Факториал числа {number} равен {fact}')"
      ]
    },
    {
      "cell_type": "markdown",
      "metadata": {
        "id": "qbpPCdLXgwRN"
      },
      "source": [
        "### Переменные и типы переменных\n",
        "\n",
        "Результаты операций и манипуляций иногда нужно сохранять, поэтому мы определяем переменные - именованные объекты, которым присваиваем значения."
      ]
    },
    {
      "cell_type": "code",
      "execution_count": null,
      "metadata": {
        "id": "eTMoHu16gwRT"
      },
      "outputs": [],
      "source": [
        "# Задаем значения переменных\n",
        "\n",
        "area = 100\n",
        "pi = 3.14\n",
        "radius = (area / pi) ** (0.5)"
      ]
    },
    {
      "cell_type": "code",
      "execution_count": null,
      "metadata": {
        "colab": {
          "base_uri": "https://localhost:8080/"
        },
        "id": "2MRHng15gwRd",
        "outputId": "7527306c-24ec-43a4-894f-37d8205ac37d"
      },
      "outputs": [
        {
          "name": "stdout",
          "output_type": "stream",
          "text": [
            "radius=5.643326479831003\n"
          ]
        }
      ],
      "source": [
        "# Вывести на печать радиус\n",
        "print('radius', radius, sep='=')"
      ]
    },
    {
      "cell_type": "code",
      "execution_count": null,
      "metadata": {
        "colab": {
          "base_uri": "https://localhost:8080/"
        },
        "id": "QyMaG9-Trct1",
        "outputId": "6ec63fad-f72f-4163-ab04-bdc9fa94f98c"
      },
      "outputs": [
        {
          "name": "stdout",
          "output_type": "stream",
          "text": [
            "Тип данных переменной num - <class 'int'>\n",
            "Тип данных переменной float_num - <class 'float'>\n",
            "Тип данных переменной str_num - <class 'str'>\n",
            "Тип данных переменной str_value - <class 'str'>\n",
            "Тип данных переменной bool_value - <class 'bool'>\n"
          ]
        }
      ],
      "source": [
        "# Приведение типов\n",
        "num = 10\n",
        "float_num = float(num) # приведение значения num к типу float\n",
        "str_num = str(num) # приведение значения num к типу str\n",
        "str_value = \"True\"\n",
        "bool_value = bool(str_value) # приведение значения str_value к типу bool\n",
        "\n",
        "#Распечатать тип данных\n",
        "\n",
        "print(f'Тип данных переменной num - {type(num)}')\n",
        "print(f'Тип данных переменной float_num - {type(float_num)}')\n",
        "print(f'Тип данных переменной str_num - {type(str_num)}')\n",
        "print(f'Тип данных переменной str_value - {type(str_value)}')\n",
        "print(f'Тип данных переменной bool_value - {type(bool_value)}')"
      ]
    },
    {
      "cell_type": "markdown",
      "metadata": {
        "id": "45vwlve8NYJF"
      },
      "source": [
        "### Задача 2: Операции над числами"
      ]
    },
    {
      "cell_type": "markdown",
      "metadata": {
        "id": "q5Ja1Iy1Ni0C"
      },
      "source": [
        "Написать программу, где вводится два целых числа с клавиатуры. Далее числа перемножаются и записываются в result. На экран выводится result.\n",
        "\n",
        "**Вход программы:**\n",
        "\n",
        "Введите первое число: 2\n",
        "\n",
        "Введите второе число: 2\n",
        "\n",
        "**Выход программы:**\n",
        "\n",
        "Результат умножения первого числа на второе:  4"
      ]
    },
    {
      "cell_type": "code",
      "execution_count": null,
      "metadata": {
        "id": "vGLnrcZv6PN8"
      },
      "outputs": [],
      "source": [
        "# написать решение задачи"
      ]
    },
    {
      "cell_type": "markdown",
      "metadata": {
        "id": "S8LqeFlJ6Qrc"
      },
      "source": [
        "### Задача 2: Операции над числами (решение)"
      ]
    },
    {
      "cell_type": "code",
      "execution_count": null,
      "metadata": {
        "id": "5Pssln2x6YDF"
      },
      "outputs": [],
      "source": [
        "# Запрашиваем у пользователя первое число\n",
        "first_number = int(input(\"Введите первое число: \"))\n",
        "\n",
        "# Запрашиваем у пользователя второе число\n",
        "second_number = int(input(\"Введите второе число: \"))\n",
        "\n",
        "# Перемножаем числа и сохраняем результат в переменную result\n",
        "result = first_number * second_number\n",
        "\n",
        "# Выводим результат умножения\n",
        "print(f\"Результат умножения первого числа на второе: {result}\")"
      ]
    },
    {
      "cell_type": "code",
      "execution_count": null,
      "metadata": {
        "id": "ypJbVTdFNxsP"
      },
      "outputs": [],
      "source": [
        "# Ячейка, где нужно написать код задачи\n",
        "\n",
        "try:\n",
        "  # Запрашиваем у пользователя первое число\n",
        "  first_number = int(input(\"Введите первое число: \"))\n",
        "\n",
        "  # Запрашиваем у пользователя второе число\n",
        "  second_number = int(input(\"Введите второе число: \"))\n",
        "\n",
        "  # Перемножаем числа и сохраняем результат в переменную result\n",
        "  result = first_number * second_number\n",
        "\n",
        "  # Выводим результат умножения\n",
        "  print(f\"Результат умножения первого числа на второе: {result}\")\n",
        "except ValueError:\n",
        "        print(\"Программа работает только с целыми числами. Введено НЕ число!\")"
      ]
    },
    {
      "cell_type": "markdown",
      "metadata": {
        "id": "fuSf1T6DgwR-"
      },
      "source": [
        "### Основные типы данных:\n",
        "    \n",
        "- int (integer numbers) - целые числа\n",
        "- float (floating-point numbers) - числа с плавающей точкой\n",
        "- str (string) - строки\n",
        "- bool (boolean) - логический тип"
      ]
    },
    {
      "cell_type": "markdown",
      "metadata": {
        "id": "m6zDG1uTgwSB"
      },
      "source": [
        "Функция **type** позволяет определить, какого типа переменная нам дана или какого типа переменную мы записали."
      ]
    },
    {
      "cell_type": "code",
      "execution_count": null,
      "metadata": {
        "id": "Jadp2DK0gwST"
      },
      "outputs": [],
      "source": [
        "text = 'Площадь круга'\n",
        "print(type(text))"
      ]
    },
    {
      "cell_type": "code",
      "execution_count": 1,
      "metadata": {
        "id": "IfkU7m2qgwSg"
      },
      "outputs": [
        {
          "name": "stdout",
          "output_type": "stream",
          "text": [
            "<class 'bool'>\n"
          ]
        }
      ],
      "source": [
        "x = True\n",
        "print(type(x))"
      ]
    },
    {
      "cell_type": "code",
      "execution_count": 2,
      "metadata": {},
      "outputs": [
        {
          "name": "stdout",
          "output_type": "stream",
          "text": [
            "<class 'int'>\n"
          ]
        }
      ],
      "source": [
        "x = 5\n",
        "print(type(x))"
      ]
    },
    {
      "cell_type": "code",
      "execution_count": 3,
      "metadata": {},
      "outputs": [
        {
          "name": "stdout",
          "output_type": "stream",
          "text": [
            "<class 'str'>\n"
          ]
        }
      ],
      "source": [
        "x = '5'\n",
        "print(type(x))"
      ]
    },
    {
      "cell_type": "markdown",
      "metadata": {
        "id": "YfLVBd0SgwS6"
      },
      "source": [
        "Если нужно поменять тип переменной, то полезны функции:\n",
        "\n",
        "- int() - возвращает целочисленную переменную\n",
        "- float() - возвращает нецелочисленную переменную\n",
        "- bool() - возвращает булеву переменную\n",
        "- str() - возвращает строковую переменную"
      ]
    },
    {
      "cell_type": "code",
      "execution_count": null,
      "metadata": {
        "id": "GoHqTdGEgwS8"
      },
      "outputs": [],
      "source": [
        "# Конкатенация строк\n",
        "'Мое имя' + ' ' + 'Дмитрий'"
      ]
    },
    {
      "cell_type": "markdown",
      "metadata": {
        "id": "BSBHc5EIgwTz"
      },
      "source": [
        "##  Базовые конструкции\n",
        "\n",
        "### Логические выражения\n",
        "\n",
        "По аналогии с арифметическими выражениями существуют логические выражения, которые могут быть истинными или ложными. Простое логическое выражение имеет вид <br />\n",
        "\n",
        "<арифметическое выражение> <знак сравнения> <арифметическое выражение>. <br />\n",
        "\n",
        "Например, если у нас есть переменные x и y с какими-то значениями, то логическое выражение <br /> x + y < 3y <br /> в качестве первого арифметического выражения имеет x + y, в качестве знака сравнения < (меньше), а второе арифметическое выражение в нём 3y.\n",
        "\n",
        "Логические выражения:\n",
        "- $<$   меньше\n",
        "- $>$  больше\n",
        "- $<=$  меньше или равно\n",
        "- $>=$  больше или равно\n",
        "- $==$  равно\n",
        "- $!=$  не равно"
      ]
    },
    {
      "cell_type": "code",
      "execution_count": null,
      "metadata": {
        "colab": {
          "base_uri": "https://localhost:8080/"
        },
        "id": "a_TjqfuqgwT9",
        "outputId": "35e9f763-b3eb-488a-a5fd-f387af4272ac"
      },
      "outputs": [
        {
          "data": {
            "text/plain": [
              "True"
            ]
          },
          "execution_count": 1,
          "metadata": {},
          "output_type": "execute_result"
        }
      ],
      "source": [
        "2 != 3"
      ]
    },
    {
      "cell_type": "code",
      "execution_count": null,
      "metadata": {
        "colab": {
          "base_uri": "https://localhost:8080/"
        },
        "id": "MgiYJJ_-gwUI",
        "outputId": "d61239fb-08bb-4006-fa0a-201ebce3c67d"
      },
      "outputs": [
        {
          "data": {
            "text/plain": [
              "True"
            ]
          },
          "execution_count": 2,
          "metadata": {},
          "output_type": "execute_result"
        }
      ],
      "source": [
        "a=2\n",
        "b=3\n",
        "\n",
        "a != b"
      ]
    },
    {
      "cell_type": "code",
      "execution_count": null,
      "metadata": {},
      "outputs": [],
      "source": [
        "number = 7 # int 8, 16, 32, 64\n",
        "number = 10000000000000000000000000000000000000000000000000000000"
      ]
    },
    {
      "cell_type": "code",
      "execution_count": null,
      "metadata": {},
      "outputs": [],
      "source": [
        "56.87 # точность вычислений проблема, для float память ограничена для значения после точки"
      ]
    },
    {
      "cell_type": "code",
      "execution_count": null,
      "metadata": {
        "colab": {
          "base_uri": "https://localhost:8080/"
        },
        "id": "H2bG8VYIgwUT",
        "outputId": "dbcde356-61ca-4fbe-e5dd-184b8c769c4e"
      },
      "outputs": [
        {
          "name": "stdout",
          "output_type": "stream",
          "text": [
            "<class 'bool'>\n",
            "False\n",
            "0\n"
          ]
        }
      ],
      "source": [
        "x = 2 * 2 == 5\n",
        "print(type(x))\n",
        "print(x)\n",
        "print(int(x))"
      ]
    },
    {
      "cell_type": "code",
      "execution_count": null,
      "metadata": {
        "colab": {
          "base_uri": "https://localhost:8080/"
        },
        "id": "gvl1qTrHgwUd",
        "outputId": "672cd47e-584b-42dc-8191-54d23db0777e"
      },
      "outputs": [
        {
          "name": "stdout",
          "output_type": "stream",
          "text": [
            "<class 'bool'>\n",
            "True\n",
            "1\n"
          ]
        }
      ],
      "source": [
        "x = 2 * 2 != 5\n",
        "print(type(x))\n",
        "print(x)\n",
        "print(int(x))"
      ]
    },
    {
      "cell_type": "markdown",
      "metadata": {
        "id": "75qI8JMIgwUo"
      },
      "source": [
        "Чтобы записать сложное логическое выражение, часто бывает необходимо воспользоваться логическими связками \"и\", \"или\" и \"не\". В Питоне они обозначаются как and, or и not соответственно. Операции and и or являеются бинарными, т.е. должны быть записаны между операндами, например x < 3 or y > 2. Операция not - унарная и должна быть записана перед единственным своим операндом."
      ]
    },
    {
      "cell_type": "code",
      "execution_count": 8,
      "metadata": {
        "colab": {
          "base_uri": "https://localhost:8080/"
        },
        "id": "iAfGrehIgwUq",
        "outputId": "fe515912-0469-4208-e19f-300ea72201d4"
      },
      "outputs": [
        {
          "name": "stdout",
          "output_type": "stream",
          "text": [
            "True\n",
            "False\n",
            "True\n"
          ]
        }
      ],
      "source": [
        "x = 4\n",
        "y = 5\n",
        "print(x > 3 and y > 3)\n",
        "print(x > y or x == y)\n",
        "print(not (x > y))"
      ]
    },
    {
      "cell_type": "code",
      "execution_count": 10,
      "metadata": {},
      "outputs": [
        {
          "name": "stdout",
          "output_type": "stream",
          "text": [
            "True\n"
          ]
        }
      ],
      "source": [
        "print(not(x > y))"
      ]
    },
    {
      "cell_type": "code",
      "execution_count": 11,
      "metadata": {},
      "outputs": [
        {
          "name": "stdout",
          "output_type": "stream",
          "text": [
            "False\n"
          ]
        }
      ],
      "source": [
        "print(x > y & x == y) # бинарная конъюнкция"
      ]
    },
    {
      "cell_type": "code",
      "execution_count": 12,
      "metadata": {},
      "outputs": [
        {
          "name": "stdout",
          "output_type": "stream",
          "text": [
            "False\n"
          ]
        }
      ],
      "source": [
        "print(x > y | x == y) # бинарная дизъюнкция"
      ]
    },
    {
      "cell_type": "code",
      "execution_count": null,
      "metadata": {},
      "outputs": [],
      "source": [
        "[5, 6, 7] ^ [6, 7]# исключающее или"
      ]
    },
    {
      "cell_type": "code",
      "execution_count": null,
      "metadata": {
        "colab": {
          "base_uri": "https://localhost:8080/"
        },
        "id": "yVFwyFkbgwU1",
        "outputId": "89c02d0f-f7b3-4b93-ae9d-e93bbbb1e64b"
      },
      "outputs": [
        {
          "data": {
            "text/plain": [
              "True"
            ]
          },
          "execution_count": 6,
          "metadata": {},
          "output_type": "execute_result"
        }
      ],
      "source": [
        "a = 1\n",
        "b = 2\n",
        "c = 3\n",
        "d = 4\n",
        "\n",
        "((a == d) and (a > c)) != 4"
      ]
    },
    {
      "cell_type": "code",
      "execution_count": null,
      "metadata": {
        "colab": {
          "base_uri": "https://localhost:8080/"
        },
        "id": "PHba8zUpgwU_",
        "outputId": "1b2a63a8-6573-4bd0-c0cc-b55116ed61dc"
      },
      "outputs": [
        {
          "data": {
            "text/plain": [
              "True"
            ]
          },
          "execution_count": 7,
          "metadata": {},
          "output_type": "execute_result"
        }
      ],
      "source": [
        "((False) and (False)) != 4"
      ]
    },
    {
      "cell_type": "code",
      "execution_count": null,
      "metadata": {
        "colab": {
          "base_uri": "https://localhost:8080/"
        },
        "id": "l-Ut9t-JgwVI",
        "outputId": "17f4dc27-4a18-41c9-eadc-0ca084cc8b35"
      },
      "outputs": [
        {
          "data": {
            "text/plain": [
              "True"
            ]
          },
          "execution_count": 8,
          "metadata": {},
          "output_type": "execute_result"
        }
      ],
      "source": [
        "False != 4"
      ]
    },
    {
      "cell_type": "code",
      "execution_count": 20,
      "metadata": {},
      "outputs": [],
      "source": [
        "number_with_comma = 67.887667839993933\n",
        "number_with_comma_two = 89.6555555555555\n",
        "number_with_comma_three = 89.6555555555559\n",
        "number_with_comma_four = 89.6"
      ]
    },
    {
      "cell_type": "code",
      "execution_count": 18,
      "metadata": {},
      "outputs": [
        {
          "data": {
            "text/plain": [
              "True"
            ]
          },
          "execution_count": 18,
          "metadata": {},
          "output_type": "execute_result"
        }
      ],
      "source": [
        "number_with_comma_two == number_with_comma_three"
      ]
    },
    {
      "cell_type": "code",
      "execution_count": 21,
      "metadata": {},
      "outputs": [
        {
          "data": {
            "text/plain": [
              "False"
            ]
          },
          "execution_count": 21,
          "metadata": {},
          "output_type": "execute_result"
        }
      ],
      "source": [
        "number_with_comma_two == number_with_comma_four"
      ]
    },
    {
      "cell_type": "code",
      "execution_count": 23,
      "metadata": {},
      "outputs": [
        {
          "data": {
            "text/plain": [
              "True"
            ]
          },
          "execution_count": 23,
          "metadata": {},
          "output_type": "execute_result"
        }
      ],
      "source": [
        "import math\n",
        "\n",
        "'''\n",
        "rel_tol: _SupportsFloatOrIndex = 1e-09, относительная точность\n",
        "abs_tol: _SupportsFloatOrIndex = 0.0, абсолютная точность\n",
        "'''\n",
        "\n",
        "math.isclose(number_with_comma_two, number_with_comma_three)"
      ]
    },
    {
      "cell_type": "code",
      "execution_count": 24,
      "metadata": {},
      "outputs": [
        {
          "data": {
            "text/plain": [
              "True"
            ]
          },
          "execution_count": 24,
          "metadata": {},
          "output_type": "execute_result"
        }
      ],
      "source": [
        "epsilon = 1e-06 # точность вычислений\n",
        "abs(number_with_comma_two - number_with_comma_three) < epsilon"
      ]
    },
    {
      "cell_type": "markdown",
      "metadata": {
        "id": "AuZ5H20IgwVw"
      },
      "source": [
        "\n",
        "### Условный оператор"
      ]
    },
    {
      "cell_type": "markdown",
      "metadata": {
        "id": "-O_f_ZXFgwV1"
      },
      "source": [
        "Наиболее частое применение логические выражения находят в условных операторах.\n",
        "\n",
        "В классическом python замена switch-case:\n",
        "\n",
        "Синтаксис в Python: <br />\n",
        "**if** условие_1:<br />\n",
        "&emsp; команды<br />\n",
        "**elif** условие_2:<br />\n",
        "&emsp; команды<br />\n",
        "**elif** условие_3:<br />\n",
        "&emsp; команды<br />\n",
        "&emsp; ... <br />\n",
        "**elif** условие_N:<br />\n",
        "&emsp; команды<br />\n",
        "**else**: <br />\n",
        "&emsp; команды<br />"
      ]
    },
    {
      "cell_type": "code",
      "execution_count": null,
      "metadata": {
        "id": "UUmfDyKHgwV7"
      },
      "outputs": [],
      "source": [
        "x = 2 ** 3   # 8\n",
        "y = 3 ** 2   # 9\n",
        "\n",
        "if x > y:\n",
        "    print('X больше Y')\n",
        "    print(x - y)\n",
        "else:\n",
        "    print(' ')\n",
        "    print('Y не меньше, чем X')"
      ]
    },
    {
      "cell_type": "code",
      "execution_count": null,
      "metadata": {
        "id": "yS6ayadXgwWG"
      },
      "outputs": [],
      "source": [
        "x = int(input('Введите число X: '))\n",
        "y = int(input('Введите число Y: '))\n",
        "\n",
        "if x > y:\n",
        "    print('X больше Y')\n",
        "    print('x - y = ', x - y)\n",
        "elif y > x:\n",
        "    print('Y больше X')\n",
        "    print('y - x = ', y - x)\n",
        "else:\n",
        "    print('X равно Y')"
      ]
    },
    {
      "cell_type": "markdown",
      "metadata": {
        "id": "F-qHPYKcgwWO"
      },
      "source": [
        "#### Задача 3: Прогноз погоды\n",
        "\n",
        "1) Друзья позвали вас поехать на водохранилище купаться на выходных. Вы с удовольствием поедете, если погода будет хорошей. Вы решили посмотреть прогноз погоды и оказалось, что на выходных температура воздуха будет 26 градусов. Выведите на экран сообщение, которое вы решили отправить своим друзьям.\n",
        "\n",
        "Если температура выше 23 градусов, то должна появиться строчка \"На выходных будет тепло, поехали купаться!\", в противном случае - \"К сожалению, будет слишком холодно и я не поеду\"\n",
        "\n",
        "**Вход программы:**\n",
        "\n",
        "Введите ожидаемую температуру на выходных: 26\n",
        "\n",
        "**Выход программы:**\n",
        "\n",
        "На выходных будет тепло, поехали купаться!"
      ]
    },
    {
      "cell_type": "code",
      "execution_count": null,
      "metadata": {
        "id": "gmptA5pp6iRD"
      },
      "outputs": [],
      "source": [
        "# написать решение задачи"
      ]
    },
    {
      "cell_type": "markdown",
      "metadata": {
        "id": "D4AsTMpZ6loT"
      },
      "source": [
        "#### Задача 3: Прогноз погоды (решение)"
      ]
    },
    {
      "cell_type": "code",
      "execution_count": 13,
      "metadata": {},
      "outputs": [
        {
          "data": {
            "text/plain": [
              "str"
            ]
          },
          "execution_count": 13,
          "metadata": {},
          "output_type": "execute_result"
        }
      ],
      "source": [
        "temp = type(input(\"Введите ожидаемую температуру на выходных: \"))\n",
        "temp"
      ]
    },
    {
      "cell_type": "code",
      "execution_count": 15,
      "metadata": {
        "colab": {
          "base_uri": "https://localhost:8080/"
        },
        "id": "i3UpP7FUgwWS",
        "outputId": "a56e6c8e-9027-434f-f1c2-f87c0b7cad43"
      },
      "outputs": [
        {
          "ename": "ValueError",
          "evalue": "could not convert string to float: '-1,5'",
          "output_type": "error",
          "traceback": [
            "\u001b[1;31m---------------------------------------------------------------------------\u001b[0m",
            "\u001b[1;31mValueError\u001b[0m                                Traceback (most recent call last)",
            "Cell \u001b[1;32mIn[15], line 8\u001b[0m\n\u001b[0;32m      5\u001b[0m MIN_TEMPERATURE \u001b[38;5;241m=\u001b[39m \u001b[38;5;241m10\u001b[39m \u001b[38;5;66;03m# PEP8\u001b[39;00m\n\u001b[0;32m      7\u001b[0m \u001b[38;5;66;03m# Запрос ввода температуры с клавиатуры\u001b[39;00m\n\u001b[1;32m----> 8\u001b[0m temperature \u001b[38;5;241m=\u001b[39m \u001b[38;5;28;43mfloat\u001b[39;49m\u001b[43m(\u001b[49m\u001b[38;5;28;43minput\u001b[39;49m\u001b[43m(\u001b[49m\u001b[38;5;124;43m\"\u001b[39;49m\u001b[38;5;124;43mВведите ожидаемую температуру на выходных: \u001b[39;49m\u001b[38;5;124;43m\"\u001b[39;49m\u001b[43m)\u001b[49m\u001b[43m)\u001b[49m \u001b[38;5;66;03m# вводим 26\u001b[39;00m\n\u001b[0;32m     10\u001b[0m \u001b[38;5;66;03m# Определение текста сообщения в зависимости от температуры\u001b[39;00m\n\u001b[0;32m     11\u001b[0m \u001b[38;5;28;01mif\u001b[39;00m temperature \u001b[38;5;241m>\u001b[39m MAX_TEMPERATURE:\n",
            "\u001b[1;31mValueError\u001b[0m: could not convert string to float: '-1,5'"
          ]
        }
      ],
      "source": [
        "# Место для решения\n",
        "\n",
        "# Установка максимальной температуры как константы\n",
        "MAX_TEMPERATURE = 23 # PEP8\n",
        "MIN_TEMPERATURE = 10 # PEP8\n",
        "\n",
        "# Запрос ввода температуры с клавиатуры\n",
        "temperature = float(input(\"Введите ожидаемую температуру на выходных: \")) # вводим 26\n",
        "\n",
        "# Определение текста сообщения в зависимости от температуры\n",
        "if temperature > MAX_TEMPERATURE:\n",
        "    message = \"На выходных будет тепло, поехали купаться!\"\n",
        "elif temperature > MIN_TEMPERATURE and temperature < MAX_TEMPERATURE:\n",
        "    message = \"На выходных будет средняя температура, поехали на шашлыки!\"\n",
        "else:\n",
        "    message = \"К сожалению, будет слишком холодно и я не поеду\"\n",
        "\n",
        "# Вывод сообщения\n",
        "print(message)"
      ]
    },
    {
      "cell_type": "code",
      "execution_count": 16,
      "metadata": {},
      "outputs": [
        {
          "name": "stdout",
          "output_type": "stream",
          "text": [
            "Введены неверные данные\n"
          ]
        }
      ],
      "source": [
        "# Место для решения\n",
        "\n",
        "# Установка максимальной температуры как константы\n",
        "MAX_TEMPERATURE = 23 # PEP8\n",
        "MIN_TEMPERATURE = 10 # PEP8\n",
        "\n",
        "try:\n",
        "    # Запрос ввода температуры с клавиатуры\n",
        "    temperature = float(input(\"Введите ожидаемую температуру на выходных: \")) # вводим 26\n",
        "\n",
        "    # Определение текста сообщения в зависимости от температуры\n",
        "    if temperature > MAX_TEMPERATURE:\n",
        "        message = \"На выходных будет тепло, поехали купаться!\"\n",
        "    elif temperature > MIN_TEMPERATURE and temperature < MAX_TEMPERATURE:\n",
        "        message = \"На выходных будет средняя температура, поехали на шашлыки!\"\n",
        "    else:\n",
        "        message = \"К сожалению, будет слишком холодно и я не поеду\"\n",
        "\n",
        "    # Вывод сообщения\n",
        "    print(message)\n",
        "except ValueError:\n",
        "    # Вывод сообщения\n",
        "    print(\"Введены неверные данные\")\n"
      ]
    },
    {
      "cell_type": "code",
      "execution_count": null,
      "metadata": {
        "colab": {
          "base_uri": "https://localhost:8080/"
        },
        "id": "Eb-E6EBf-Xkj",
        "outputId": "f1a68898-1a84-4997-a587-75de308630e1"
      },
      "outputs": [
        {
          "name": "stdout",
          "output_type": "stream",
          "text": [
            "Введите ожидаемую температуру на выходных: 55\n",
            "На выходных будет тепло, поехали купаться!\n"
          ]
        }
      ],
      "source": [
        "# Вариант решения 2\n",
        "\n",
        "# Установка максимальной температуры как константы\n",
        "MAX_TEMPERATURE = 23\n",
        "MIN_TEMPERATURE = 10\n",
        "\n",
        "# Запрос ввода температуры с клавиатуры\n",
        "temperature = float(input(\"Введите ожидаемую температуру на выходных: \")) # вводим 26\n",
        "\n",
        "# Определение текста сообщения в зависимости от температуры\n",
        "if temperature > MAX_TEMPERATURE:\n",
        "    message = \"На выходных будет тепло, поехали купаться!\"\n",
        "elif temperature > MIN_TEMPERATURE and temperature < MAX_TEMPERATURE:\n",
        "    message = \"На выходных будет средняя температура, поехали на шашлыки!\"\n",
        "else:\n",
        "    message = \"К сожалению, будет слишком холодно и я не поеду\"\n",
        "\n",
        "# Вывод сообщения\n",
        "print(message)"
      ]
    },
    {
      "cell_type": "markdown",
      "metadata": {
        "id": "xevK5Jt3gwWn"
      },
      "source": [
        "### Цикл while\n",
        "\n",
        "Циклические конструкции используются для многократного повторения одних и тех же действий.\n",
        "\n",
        "В цикле while команды выполняются до тех пор, пока некоторое заданное условие верно. При этом, если в теле цикла прямо не прописана процедура изменения переменной, заданной в условии, то получится бесконечный цикл :)\n",
        "\n",
        "Структура цикла while:"
      ]
    },
    {
      "cell_type": "code",
      "execution_count": null,
      "metadata": {
        "id": "pGDlhkfFgwWp"
      },
      "outputs": [],
      "source": [
        "candies_num = 3\n",
        "\n",
        "while candies_num > 0:\n",
        "    print('Конфеты есть')\n",
        "    candies_num -=1        #  то же самое, что и candies_num = candies_num - 1"
      ]
    },
    {
      "cell_type": "markdown",
      "metadata": {
        "id": "GR4qB_cbxOGL"
      },
      "source": [
        "### Задача 4: Максимальное из трёх чисел"
      ]
    },
    {
      "cell_type": "markdown",
      "metadata": {
        "id": "ftK6bfSzxfOM"
      },
      "source": [
        "Ввести три целых числа, найти максимальное из них\n",
        "\n",
        "**Вход программы:** Введите три целых числа:\n",
        "1 5 4\n",
        "\n",
        "**Выход программы:** Максимальное число: 5"
      ]
    },
    {
      "cell_type": "code",
      "execution_count": 25,
      "metadata": {},
      "outputs": [
        {
          "data": {
            "text/plain": [
              "-inf"
            ]
          },
          "execution_count": 25,
          "metadata": {},
          "output_type": "execute_result"
        }
      ],
      "source": [
        "-math.inf"
      ]
    },
    {
      "cell_type": "code",
      "execution_count": 27,
      "metadata": {
        "id": "WGGQTYlo6vPl"
      },
      "outputs": [
        {
          "name": "stdout",
          "output_type": "stream",
          "text": [
            "максимальное значение: 56\n"
          ]
        }
      ],
      "source": [
        "import math\n",
        "# написать решение задачи\n",
        "\n",
        "COUNT_MAX = 3\n",
        "counter = 0 # счётчик\n",
        "max_number = float(-math.inf)\n",
        "\n",
        "while counter < COUNT_MAX:\n",
        "    try:\n",
        "        number = int(input(f'Введите число {counter + 1}:'))\n",
        "        \n",
        "        if number > max_number:\n",
        "            max_number = number\n",
        "            \n",
        "        counter += 1\n",
        "    except ValueError:\n",
        "        print('Пожалуйста, введите число.')\n",
        "\n",
        "print(f'максимальное значение: {max_number}')"
      ]
    },
    {
      "cell_type": "markdown",
      "metadata": {
        "id": "w5jIpkNn6vid"
      },
      "source": [
        "### Задача 4: Максимальное из трёх чисел (решение)"
      ]
    },
    {
      "cell_type": "code",
      "execution_count": 28,
      "metadata": {
        "id": "oIhGmS7py-yT"
      },
      "outputs": [
        {
          "ename": "ValueError",
          "evalue": "invalid literal for int() with base 10: 'h'",
          "output_type": "error",
          "traceback": [
            "\u001b[1;31m---------------------------------------------------------------------------\u001b[0m",
            "\u001b[1;31mValueError\u001b[0m                                Traceback (most recent call last)",
            "Cell \u001b[1;32mIn[28], line 12\u001b[0m\n\u001b[0;32m      1\u001b[0m \u001b[38;5;66;03m# Ячейка, где нужно написать код задачи\u001b[39;00m\n\u001b[0;32m      2\u001b[0m \n\u001b[0;32m      3\u001b[0m \u001b[38;5;66;03m# Запрашиваем у пользователя три целых числа\u001b[39;00m\n\u001b[0;32m      4\u001b[0m \u001b[38;5;124;03m'''\u001b[39;00m\n\u001b[0;32m      5\u001b[0m \u001b[38;5;124;03minput(\"Введите три целых числа: \") - вводятся числа (\"5 6 7\"), строка\u001b[39;00m\n\u001b[0;32m      6\u001b[0m \u001b[38;5;124;03minput(\"Введите три целых числа: \").split() - делим по separator \" \" по умолчанию на список элементов\u001b[39;00m\n\u001b[1;32m   (...)\u001b[0m\n\u001b[0;32m     10\u001b[0m \n\u001b[0;32m     11\u001b[0m \u001b[38;5;124;03m'''\u001b[39;00m\n\u001b[1;32m---> 12\u001b[0m numbers \u001b[38;5;241m=\u001b[39m \u001b[38;5;28;43mlist\u001b[39;49m\u001b[43m(\u001b[49m\u001b[38;5;28;43mmap\u001b[39;49m\u001b[43m(\u001b[49m\u001b[38;5;28;43mint\u001b[39;49m\u001b[43m,\u001b[49m\u001b[43m \u001b[49m\u001b[38;5;28;43minput\u001b[39;49m\u001b[43m(\u001b[49m\u001b[38;5;124;43m\"\u001b[39;49m\u001b[38;5;124;43mВведите три целых числа: \u001b[39;49m\u001b[38;5;124;43m\"\u001b[39;49m\u001b[43m)\u001b[49m\u001b[38;5;241;43m.\u001b[39;49m\u001b[43msplit\u001b[49m\u001b[43m(\u001b[49m\u001b[43m)\u001b[49m\u001b[43m)\u001b[49m\u001b[43m)\u001b[49m\n\u001b[0;32m     14\u001b[0m \u001b[38;5;66;03m# Находим максимальное число\u001b[39;00m\n\u001b[0;32m     15\u001b[0m max_number \u001b[38;5;241m=\u001b[39m \u001b[38;5;28mmax\u001b[39m(numbers)\n",
            "\u001b[1;31mValueError\u001b[0m: invalid literal for int() with base 10: 'h'"
          ]
        }
      ],
      "source": [
        "# Ячейка, где нужно написать код задачи\n",
        "\n",
        "# Запрашиваем у пользователя три целых числа\n",
        "'''\n",
        "input(\"Введите три целых числа: \") - вводятся числа (\"5 6 7\"), строка\n",
        "input(\"Введите три целых числа: \").split() - делим по separator \" \" по умолчанию на список элементов\n",
        "input(\"Введите три целых числа: \").split())) - список строк [\"5\", \"6\", \"7\"]\n",
        "map(int, input(\"Введите три целых числа: \").split()) - приведение в цикле каждого элемента списка к int - Map object \n",
        "list(map(int, input(\"Введите три целых числа: \").split())) - преобразование в список - [5, 6, 7]\n",
        "\n",
        "'''\n",
        "numbers = list(map(int, input(\"Введите три целых числа: \").split()))\n",
        "\n",
        "# Находим максимальное число\n",
        "max_number = max(numbers)\n",
        "\n",
        "# Выводим максимальное число\n",
        "print(f\"Максимальное число: {max_number}\")"
      ]
    },
    {
      "cell_type": "markdown",
      "metadata": {
        "id": "FK_siyrvxpwG"
      },
      "source": [
        "### Задача 5: Анализ успеваемости студента"
      ]
    },
    {
      "cell_type": "markdown",
      "metadata": {
        "id": "EaCVPc0IxtCm"
      },
      "source": [
        "Напишите программу на Python, которая анализирует оценки студента по предметам и определяет по оценке рейтинг студента:\n",
        "- успешно справляется с учебой (средний балл выше 4.5)\n",
        "- нуждается в дополнительном обучении (средний балл от 3 до 4.5 включительно)\n",
        "- находится в группе риска (средний балл ниже 3)\n",
        "\n",
        "**Вход программы:** Введите текущий средний балл за предмет:\n",
        "4.4\n",
        "\n",
        "**Выход программы:** Студент нуждается в дополнительном обучении\n",
        "\n",
        "**Вход программы:** Введите текущий средний балл за предмет:\n",
        "4.7\n",
        "\n",
        "**Выход программы:** Студент успешно справляется\n",
        "\n",
        "**Вход программы:** Введите текущий средний балл за предмет:\n",
        "2.8\n",
        "\n",
        "**Выход программы:** Студент находится в группе риска"
      ]
    },
    {
      "cell_type": "code",
      "execution_count": null,
      "metadata": {
        "id": "psOtWv_-66X8"
      },
      "outputs": [],
      "source": [
        "# написать решение задачи"
      ]
    },
    {
      "cell_type": "markdown",
      "metadata": {
        "id": "2nPc6V0K67mu"
      },
      "source": [
        "### Задача 5: Анализ успеваемости студента (решение)"
      ]
    },
    {
      "cell_type": "code",
      "execution_count": null,
      "metadata": {
        "id": "L8nnL4xGzApS"
      },
      "outputs": [],
      "source": [
        "# Ячейка, где нужно написать код задачи\n",
        "\n",
        "# Запрашиваем у пользователя средний балл за предмет\n",
        "average_score = float(input(\"Введите текущий средний балл за предмет: \"))\n",
        "\n",
        "# Введем значение минимального балла для успешности\n",
        "SUCCESS_ASSESSMENT = 4.5\n",
        "MINIMUM_ASSESSMENT = 3\n",
        "\n",
        "# Определяем рейтинг студента в зависимости от среднего балла\n",
        "if average_score > SUCCESS_ASSESSMENT:\n",
        "    print(\"Студент успешно справляется с учебой\")\n",
        "elif MINIMUM_ASSESSMENT <= average_score <= SUCCESS_ASSESSMENT:\n",
        "    print(\"Студент нуждается в дополнительном обучении\")\n",
        "else:\n",
        "    print(\"Студент находится в группе риска\")"
      ]
    },
    {
      "cell_type": "markdown",
      "metadata": {
        "id": "fmoNyACOgwW9"
      },
      "source": [
        "### Функция range(n)\n",
        "\n",
        "Функция range выдает последовательность чисел в зависимости от заданных параметров\n",
        "\n",
        "Синтаксис функции:"
      ]
    },
    {
      "cell_type": "code",
      "execution_count": null,
      "metadata": {
        "id": "NI6YLkmTgwXa"
      },
      "outputs": [],
      "source": [
        "for i in range(10):\n",
        "    print(i)"
      ]
    },
    {
      "cell_type": "code",
      "execution_count": null,
      "metadata": {
        "id": "999_SaIogwXi"
      },
      "outputs": [],
      "source": [
        "for i in range(3, 12):\n",
        "    print(i)"
      ]
    },
    {
      "cell_type": "code",
      "execution_count": null,
      "metadata": {
        "id": "IcqURdFzgwXw"
      },
      "outputs": [],
      "source": [
        "for i in range(3, 12, 2):\n",
        "    print(i)"
      ]
    },
    {
      "cell_type": "markdown",
      "metadata": {
        "id": "JhBN5yTfgwX4"
      },
      "source": [
        "## Цикл for\n",
        "\n",
        "Команды в цикле for выполняются для заданного списка объектов и повторяются столько раз, сколько этих объектов.\n",
        "\n",
        "Дословно это работает так:\n",
        "\n",
        "*Питон, для каждого объекта из списка объектов выполни, пожалуйста, вот это действие* :)\n"
      ]
    },
    {
      "cell_type": "code",
      "execution_count": null,
      "metadata": {
        "id": "DmWsBm7FgwYG"
      },
      "outputs": [],
      "source": [
        "# Перекличка :)\n",
        "for i in range(1, 5):\n",
        "    print(i)"
      ]
    },
    {
      "cell_type": "code",
      "execution_count": null,
      "metadata": {
        "id": "M7DIvHykgwYO"
      },
      "outputs": [],
      "source": [
        "for animal in ['кошка', 'собака', 'жираф', 'хомяк']:\n",
        "    print(animal)"
      ]
    },
    {
      "cell_type": "markdown",
      "metadata": {
        "id": "xnySMJEMOLfb"
      },
      "source": [
        "# Функции\n",
        "Функции – это многократно используемые фрагменты программы. Они позволяют дать имя определенному блоку команд для того, чтобы выполнять этот блок по указанному имени в любом месте программы и сколь угодно много раз. Это называется вызовом функции. Мы уже использовали встроенные функции: print, input, len, range;"
      ]
    },
    {
      "cell_type": "markdown",
      "metadata": {
        "id": "KGnCuEJMOvKi"
      },
      "source": [
        "Функции могут принимать параметры, т.е. некоторые значения, передаваемые функции для того, чтобы она что-либо сделала с ними.\n",
        "\n",
        "Параметры указываются в скобках при объявлении функции и разделяются запятыми. Аналогично мы передаём значения, когда вызываем функцию. Обратите внимание на терминологию: имена, указанные в объявлении функции, называются параметрами, тогда как значения, которые вы передаёте в функцию при её вызове, – аргументами."
      ]
    },
    {
      "cell_type": "code",
      "execution_count": null,
      "metadata": {
        "colab": {
          "base_uri": "https://localhost:8080/"
        },
        "id": "PRFujYc9ORmc",
        "outputId": "6e60c8d3-1a0f-41aa-dcdd-f4f524240645"
      },
      "outputs": [
        {
          "name": "stdout",
          "output_type": "stream",
          "text": [
            "9 максимально\n",
            "92 максимально\n",
            "439 максимально\n",
            "59 максимально\n",
            "69 максимально\n",
            "37 максимально\n",
            "94 максимально\n",
            "559 максимально\n",
            "449 максимально\n"
          ]
        }
      ],
      "source": [
        "def print_max(a, b):\n",
        "    #невозвращаемая функция\n",
        "    if a > b:\n",
        "        print(a, 'максимально')\n",
        "    elif a == b:\n",
        "        print(a, 'равно', b)\n",
        "    else:\n",
        "        print(b, 'максимально')\n",
        "print_max(7, 9)\n",
        "print_max(74, 92)\n",
        "print_max(17, 439)\n",
        "print_max(27, 59)\n",
        "print_max(17, 69)\n",
        "print_max(37, 29)\n",
        "print_max(17, 94)\n",
        "print_max(17, 559)\n",
        "print_max(72, 449)\n"
      ]
    },
    {
      "cell_type": "code",
      "execution_count": null,
      "metadata": {
        "colab": {
          "base_uri": "https://localhost:8080/"
        },
        "id": "tA5qLSmE8y2_",
        "outputId": "e58a9579-c4ca-43b8-8838-6aef8e9423d4"
      },
      "outputs": [
        {
          "name": "stdout",
          "output_type": "stream",
          "text": [
            "10 максимально\n",
            "9 максимально\n",
            "8 максимально\n",
            "7 максимально\n",
            "6 максимально\n",
            "6 максимально\n",
            "7 максимально\n",
            "8 максимально\n",
            "9 максимально\n"
          ]
        }
      ],
      "source": [
        "number_one = 1\n",
        "number_two = 10\n",
        "for iter in range(9):\n",
        "  print_max(number_one, number_two)\n",
        "  number_one += 1\n",
        "  number_two -= 1"
      ]
    },
    {
      "cell_type": "code",
      "execution_count": null,
      "metadata": {
        "id": "Zqj8vXis8MeX"
      },
      "outputs": [],
      "source": [
        "def count_numbers():\n",
        "  pass"
      ]
    },
    {
      "cell_type": "code",
      "execution_count": null,
      "metadata": {
        "colab": {
          "base_uri": "https://localhost:8080/"
        },
        "id": "gPsZY5BS736q",
        "outputId": "cd650bc9-4644-4d64-aed8-ad04db11e81e"
      },
      "outputs": [
        {
          "data": {
            "text/plain": [
              "function"
            ]
          },
          "execution_count": 53,
          "metadata": {},
          "output_type": "execute_result"
        }
      ],
      "source": [
        "type(print_max)"
      ]
    },
    {
      "cell_type": "code",
      "execution_count": null,
      "metadata": {
        "colab": {
          "base_uri": "https://localhost:8080/"
        },
        "id": "juoeAXxt72Eh",
        "outputId": "ce1514dc-5f1e-46f1-f5de-8c4bdb560634"
      },
      "outputs": [
        {
          "name": "stdout",
          "output_type": "stream",
          "text": [
            "4 максимально\n"
          ]
        },
        {
          "data": {
            "text/plain": [
              "NoneType"
            ]
          },
          "execution_count": 55,
          "metadata": {},
          "output_type": "execute_result"
        }
      ],
      "source": [
        "type(print_max(3, 4))  # прямая передача значений"
      ]
    },
    {
      "cell_type": "code",
      "execution_count": null,
      "metadata": {
        "colab": {
          "base_uri": "https://localhost:8080/"
        },
        "id": "sPSNdwmt7txP",
        "outputId": "d81ad86f-5dbf-4844-ec21-2c536c45e71f"
      },
      "outputs": [
        {
          "name": "stdout",
          "output_type": "stream",
          "text": [
            "7 максимально\n"
          ]
        }
      ],
      "source": [
        "x = 5\n",
        "y = 7\n",
        "\n",
        "print_max(x, y)  # передача переменных в качестве аргументов"
      ]
    },
    {
      "cell_type": "markdown",
      "metadata": {
        "id": "WjG4_j1CPIkZ"
      },
      "source": [
        "При объявлении переменных внутри определения функции, они никоим образом не связаны с другими переменными с таким же именем за пределами функции – т.е. имена переменных являются локальными в функции. Это называется областью видимости переменной. Область видимости всех переменных ограничена блоком, в котором они объявлены, начиная с точки объявления имени."
      ]
    },
    {
      "cell_type": "code",
      "execution_count": null,
      "metadata": {
        "colab": {
          "base_uri": "https://localhost:8080/"
        },
        "id": "jYSsPO7CO5ZJ",
        "outputId": "fc1a80e8-b69e-428b-adec-f175b11767e6"
      },
      "outputs": [
        {
          "name": "stdout",
          "output_type": "stream",
          "text": [
            "x равен 50\n",
            "Замена локального x на 2\n",
            "x по-прежнему 50\n"
          ]
        }
      ],
      "source": [
        "x = 50\n",
        "\n",
        "def func(x):\n",
        "    print('x равен', x)\n",
        "    x = 2\n",
        "    print('Замена локального x на', x)\n",
        "\n",
        "func(x)\n",
        "print('x по-прежнему', x)"
      ]
    },
    {
      "cell_type": "markdown",
      "metadata": {
        "id": "5KWUV9PnPWZA"
      },
      "source": [
        "Часть параметров функций могут быть необязательными, и для них будут использоваться некоторые заданные значения по умолчанию, если пользователь не укажет собственных. Этого можно достичь с помощью значений аргументов по умолчанию. Их можно указать, добавив к имени параметра в определении функции оператор присваивания (=) с последующим значением."
      ]
    },
    {
      "cell_type": "code",
      "execution_count": null,
      "metadata": {
        "colab": {
          "base_uri": "https://localhost:8080/"
        },
        "id": "fSvj6iYFPNYI",
        "outputId": "a60f9840-24e8-45a1-a11a-0753b744e58f"
      },
      "outputs": [
        {
          "name": "stdout",
          "output_type": "stream",
          "text": [
            "Hello\n",
            "WorldWorldWorldWorldWorld\n"
          ]
        }
      ],
      "source": [
        "def say(message, times=1):\n",
        "    print(message * times)\n",
        "\n",
        "say('Hello')\n",
        "say('World', 5)"
      ]
    },
    {
      "cell_type": "markdown",
      "metadata": {
        "id": "TZJmk480KHdb"
      },
      "source": [
        "Локальные и глобальные переменные в Python относятся к области видимости переменных в программе. Область видимости определяет, где в коде переменная может быть доступна для использования.\n",
        "\n",
        "* Локальные переменные объявляются внутри функции и доступны только внутри этой функции. Они создаются при входе в функцию и удаляются при выходе из нее. Локальные переменные не могут быть доступны вне функции, в которой они были объявлены.\n",
        "* Глобальные переменные объявляются вне всех функций и доступны для использования в любой части программы, включая все функции. Глобальные переменные создаются при загрузке модуля и существуют до тех пор, пока модуль не будет удален из памяти.\n",
        "\n",
        "\n",
        "Пример использования локальных и глобальных переменных:"
      ]
    },
    {
      "cell_type": "code",
      "execution_count": null,
      "metadata": {
        "id": "WN_WuSsqKFST"
      },
      "outputs": [],
      "source": [
        "# Глобальная переменная\n",
        "global_var = \"Я глобальная переменная\"\n",
        "\n",
        "def example_function():\n",
        "    # Локальная переменная\n",
        "    local_var = \"Я локальная переменная\"\n",
        "\n",
        "    print(\"Глобальная переменная:\", global_var)\n",
        "    print(\"Локальная переменная:\", local_var)\n",
        "\n",
        "# Доступ к глобальной переменной из функции\n",
        "print(\"Глобальная переменная:\", global_var)\n",
        "\n",
        "# Доступ к локальной переменной из функции\n",
        "example_function()\n",
        "\n",
        "# Попытка доступа к локальной переменной вне функции приведет к ошибке\n",
        "# print(local_var)  # Ошибка: local_var не определена"
      ]
    },
    {
      "cell_type": "markdown",
      "metadata": {
        "id": "XvJ6G3c-Py5a"
      },
      "source": [
        "### Оператор return\n",
        "Оператор return используется для возврата из функции, т.е. для прекращения её работы и выхода из неё. При этом можно также вернуть некоторое значение из функции"
      ]
    },
    {
      "cell_type": "code",
      "execution_count": null,
      "metadata": {
        "id": "4djKyMaKPatP"
      },
      "outputs": [],
      "source": [
        "def maximum(x, y):\n",
        "    if x > y:\n",
        "        return x\n",
        "    elif x == y:\n",
        "        return 'Числа равны.'\n",
        "    else:\n",
        "        return y\n"
      ]
    },
    {
      "cell_type": "code",
      "execution_count": null,
      "metadata": {
        "colab": {
          "base_uri": "https://localhost:8080/"
        },
        "id": "pIrbKfoxP8rS",
        "outputId": "4fc75c70-9008-4021-f495-5ce10db095a4"
      },
      "outputs": [
        {
          "data": {
            "text/plain": [
              "int"
            ]
          },
          "execution_count": 67,
          "metadata": {},
          "output_type": "execute_result"
        }
      ],
      "source": [
        "type(maximum(7, 9))"
      ]
    },
    {
      "cell_type": "markdown",
      "metadata": {
        "id": "Ex36YQ_PKnNU"
      },
      "source": [
        "## Функции с параметрами"
      ]
    },
    {
      "cell_type": "markdown",
      "metadata": {
        "id": "IL-Q0iNnKt5Z"
      },
      "source": [
        "Функция с одним параметром типа int:"
      ]
    },
    {
      "cell_type": "code",
      "execution_count": null,
      "metadata": {
        "colab": {
          "base_uri": "https://localhost:8080/"
        },
        "id": "AlLtdF-_KtAw",
        "outputId": "98040af1-2bec-4658-92cf-8f5731543600"
      },
      "outputs": [
        {
          "name": "stdout",
          "output_type": "stream",
          "text": [
            "6\n"
          ]
        }
      ],
      "source": [
        "def add_one(number: int) -> int:\n",
        "    \"\"\"Добавляет 1 к числу.\"\"\"\n",
        "    return number + 1\n",
        "\n",
        "result = add_one(5)\n",
        "print(result)  # Выведет: 6"
      ]
    },
    {
      "cell_type": "code",
      "execution_count": null,
      "metadata": {
        "colab": {
          "base_uri": "https://localhost:8080/",
          "height": 263
        },
        "id": "cat4yiky9kT9",
        "outputId": "0d25398e-5c60-4373-f946-e6a2d89be7a5"
      },
      "outputs": [
        {
          "ename": "TypeError",
          "evalue": "can only concatenate str (not \"int\") to str",
          "output_type": "error",
          "traceback": [
            "\u001b[0;31m---------------------------------------------------------------------------\u001b[0m",
            "\u001b[0;31mTypeError\u001b[0m                                 Traceback (most recent call last)",
            "\u001b[0;32m<ipython-input-71-c03f7160c7da>\u001b[0m in \u001b[0;36m<cell line: 1>\u001b[0;34m()\u001b[0m\n\u001b[0;32m----> 1\u001b[0;31m \u001b[0madd_one\u001b[0m\u001b[0;34m(\u001b[0m\u001b[0;34m\"Число\"\u001b[0m\u001b[0;34m)\u001b[0m\u001b[0;34m\u001b[0m\u001b[0;34m\u001b[0m\u001b[0m\n\u001b[0m",
            "\u001b[0;32m<ipython-input-68-65980a0f060b>\u001b[0m in \u001b[0;36madd_one\u001b[0;34m(number)\u001b[0m\n\u001b[1;32m      1\u001b[0m \u001b[0;32mdef\u001b[0m \u001b[0madd_one\u001b[0m\u001b[0;34m(\u001b[0m\u001b[0mnumber\u001b[0m\u001b[0;34m:\u001b[0m \u001b[0mint\u001b[0m\u001b[0;34m)\u001b[0m \u001b[0;34m->\u001b[0m \u001b[0mint\u001b[0m\u001b[0;34m:\u001b[0m\u001b[0;34m\u001b[0m\u001b[0;34m\u001b[0m\u001b[0m\n\u001b[1;32m      2\u001b[0m     \u001b[0;34m\"\"\"Добавляет 1 к числу.\"\"\"\u001b[0m\u001b[0;34m\u001b[0m\u001b[0;34m\u001b[0m\u001b[0m\n\u001b[0;32m----> 3\u001b[0;31m     \u001b[0;32mreturn\u001b[0m \u001b[0mnumber\u001b[0m \u001b[0;34m+\u001b[0m \u001b[0;36m1\u001b[0m\u001b[0;34m\u001b[0m\u001b[0;34m\u001b[0m\u001b[0m\n\u001b[0m\u001b[1;32m      4\u001b[0m \u001b[0;34m\u001b[0m\u001b[0m\n\u001b[1;32m      5\u001b[0m \u001b[0mresult\u001b[0m \u001b[0;34m=\u001b[0m \u001b[0madd_one\u001b[0m\u001b[0;34m(\u001b[0m\u001b[0;36m5\u001b[0m\u001b[0;34m)\u001b[0m\u001b[0;34m\u001b[0m\u001b[0;34m\u001b[0m\u001b[0m\n",
            "\u001b[0;31mTypeError\u001b[0m: can only concatenate str (not \"int\") to str"
          ]
        }
      ],
      "source": [
        "add_one(\"Число\")"
      ]
    },
    {
      "cell_type": "code",
      "execution_count": null,
      "metadata": {
        "colab": {
          "base_uri": "https://localhost:8080/"
        },
        "id": "7iWK-W1m9tq4",
        "outputId": "dc86c286-d539-4901-e9eb-a3bac4a8c5b6"
      },
      "outputs": [
        {
          "data": {
            "text/plain": [
              "4"
            ]
          },
          "execution_count": 72,
          "metadata": {},
          "output_type": "execute_result"
        }
      ],
      "source": [
        "add_one(3)"
      ]
    },
    {
      "cell_type": "markdown",
      "metadata": {
        "id": "FPs7o41eKvx0"
      },
      "source": [
        "Функция с двумя параметрами разных типов (str и int):"
      ]
    },
    {
      "cell_type": "code",
      "execution_count": null,
      "metadata": {
        "id": "UabYsUCRKry1"
      },
      "outputs": [],
      "source": [
        "def greet_and_count(name: str, age: int) -> None:\n",
        "    \"\"\"Приветствует пользователя и выводит его возраст.\"\"\"\n",
        "    print(f\"Привет, {name} Тебе {age} лет.\")\n",
        "\n",
        "greet_and_count(\"Алексей\", 30)"
      ]
    },
    {
      "cell_type": "markdown",
      "metadata": {
        "id": "4KphVVCfKzjs"
      },
      "source": [
        "Функция с тремя параметрами разных типов (str, float, и bool):"
      ]
    },
    {
      "cell_type": "code",
      "execution_count": null,
      "metadata": {
        "id": "T0rXsbQlK1Qk"
      },
      "outputs": [],
      "source": [
        "def calculate_discount(price: float, discount_percent: float, is_tax_included: bool) -> float:\n",
        "    \"\"\"Рассчитывает итоговую цену с учетом скидки и налога.\"\"\"\n",
        "    discount = price * (discount_percent / 100)\n",
        "    tax = price * 0.2 if is_tax_included else 0\n",
        "    return price - discount + tax\n",
        "\n",
        "total_price = calculate_discount(100.0, 10.0, True)\n",
        "print(total_price)  # Выведет: 90.0"
      ]
    },
    {
      "cell_type": "markdown",
      "metadata": {
        "id": "SUSltowg7ktb"
      },
      "source": [
        "## Задача 6: Подбрасывание монетки\n",
        "\n",
        "На столе лежат n монеток.\n",
        "\n",
        "Некоторые из них лежат вверх решкой, а некоторые – гербом. Определите минимальное число монеток, которые нужно перевернуть,  чтобы все монетки были повернуты вверх одной и той же стороной.\n",
        "\n",
        "Выведите минимальное количество монет, которые нужно перевернуть.\n",
        "\n",
        "**Вход программы:**\n",
        "\n",
        "Введите количество монеток:\n",
        "\n",
        "5\n",
        "\n",
        "Введите 1 для решки или 0 для орла:\n",
        "\n",
        "1\n",
        "\n",
        "Введите 1 для решки или 0 для орла:\n",
        "\n",
        "0\n",
        "\n",
        "Введите 1 для решки или 0 для орла:\n",
        "\n",
        "1\n",
        "\n",
        "Введите 1 для решки или 0 для орла:\n",
        "\n",
        "1\n",
        "\n",
        "Введите 1 для решки или 0 для орла:\n",
        "\n",
        "0\n",
        "\n",
        "**Выход программы:**\n",
        "\n",
        "Нужно перевернуть 2 монет"
      ]
    },
    {
      "cell_type": "code",
      "execution_count": null,
      "metadata": {
        "id": "_Pq_tfWk7zPU"
      },
      "outputs": [],
      "source": [
        "# решение без функций\n",
        "number = int(input(\"Введите количество монеток: \"))\n",
        "count = 0\n",
        "for i in range(number):\n",
        "    coin = int(input(\"Введите 1 для решки или 0 для орла: \"))\n",
        "    if coin == 1:\n",
        "        count += 1\n",
        "print(f\"Нужно перевернуть {count if count < number / 2 else number - count} монет\")"
      ]
    },
    {
      "cell_type": "code",
      "execution_count": null,
      "metadata": {
        "id": "w5U1IVGs714N"
      },
      "outputs": [],
      "source": [
        "# написать решение с функцией здесь"
      ]
    }
  ],
  "metadata": {
    "colab": {
      "provenance": [],
      "toc_visible": true
    },
    "kernelspec": {
      "display_name": ".folder",
      "language": "python",
      "name": "python3"
    },
    "language_info": {
      "codemirror_mode": {
        "name": "ipython",
        "version": 3
      },
      "file_extension": ".py",
      "mimetype": "text/x-python",
      "name": "python",
      "nbconvert_exporter": "python",
      "pygments_lexer": "ipython3",
      "version": "3.12.1"
    }
  },
  "nbformat": 4,
  "nbformat_minor": 0
}
